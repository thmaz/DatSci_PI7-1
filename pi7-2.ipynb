{
 "cells": [
  {
   "cell_type": "code",
   "execution_count": 96,
   "metadata": {},
   "outputs": [],
   "source": [
    "import sqlite3 as lite\n",
    "import pandas as pd\n",
    "import re\n",
    "import numpy as np\n",
    "import ast"
   ]
  },
  {
   "cell_type": "code",
   "execution_count": 97,
   "metadata": {},
   "outputs": [
    {
     "name": "stdout",
     "output_type": "stream",
     "text": [
      "Unique values for 'months':  [ 1  3  4  5  6  7  8  9 10] \n",
      "\n",
      "Unique values for 'years':  [2012 2014 2015 2017 2018 2020 2021]\n",
      "  Timelag  Timelag_seconds\n",
      "0   +0:00              NaN\n",
      "1   +0:04              4.0\n",
      "2   +0:06              6.0\n",
      "3   +0:10             10.0\n",
      "4   +0:10             10.0\n",
      "5   +0:10             10.0\n",
      "6   +0:10             10.0\n",
      "7   +0:10             10.0\n",
      "8   +0:10             10.0\n",
      "9   +0:10             10.0\n",
      "id                     0\n",
      "Rnk                    0\n",
      "GC                 10059\n",
      "BiB                    0\n",
      "Rider                  0\n",
      "Age                    0\n",
      "Team                  26\n",
      "UCI                77527\n",
      "Pnt                69767\n",
      "Date                   0\n",
      "Race_ID             2386\n",
      "Stage_Number           0\n",
      "Length              6495\n",
      "Month                  0\n",
      "Year                   0\n",
      "Time_seconds       18435\n",
      "Timelag_seconds    11212\n",
      "Stage_Type_bin     72484\n",
      "fullname           34208\n",
      "team               34208\n",
      "country            34208\n",
      "height             34260\n",
      "weight             34266\n",
      "PCS_Rnk            45842\n",
      "UCI_Rnk            46804\n",
      "AllTime_Rnk        53300\n",
      "Day_Pnt            34216\n",
      "GC_Pnt             34208\n",
      "TT_Pnt             34631\n",
      "Sprint_Pnt         34342\n",
      "Climb_Pnt          34365\n",
      "dtype: int64\n",
      "\n",
      "done\n"
     ]
    }
   ],
   "source": [
    "conn = lite.connect('cycling_big.db')\n",
    "\n",
    "riders_df = pd.read_sql_query('SELECT * FROM riders;', conn)\n",
    "races_df = pd.read_sql_query('SELECT * FROM race_results', conn)\n",
    "\n",
    "# df = races_df.set_index('rider_id').join(riders_df.set_index('rider_id'))\n",
    "\n",
    "conn.close()\n",
    "\n",
    "\"\"\"\n",
    "Convert the 'Date' column to DateTime format\n",
    "Regarding races_df dataframe!\n",
    "\"\"\"\n",
    "\n",
    "races_df['Date'] = pd.to_datetime(races_df['Date'], errors='coerce', format='%d %B %Y')\n",
    "\n",
    "# Remove rows where 'Date' is NaT\n",
    "races_df = races_df.dropna(subset=['Date'])\n",
    "\n",
    "# Normalize 'Date' to strip out time if it's present (this keeps just the date part)\n",
    "races_df['Date'] = races_df['Date'].dt.normalize()\n",
    "\n",
    "# Extract the month and year from the column and put them in their own columns\n",
    "races_df['Month'] = races_df['Date'].dt.month\n",
    "races_df['Year'] = races_df['Date'].dt.year\n",
    "\n",
    "print(\"Unique values for 'months': \", races_df['Month'].unique(), \"\\n\")\n",
    "print(\"Unique values for 'years': \",races_df['Year'].unique())\n",
    "\n",
    "\"\"\"\n",
    "Converting the timetable to total seconds\n",
    "\"\"\"\n",
    "\n",
    "def time_to_seconds(time_str):\n",
    "    # Remove commas and any spaces\n",
    "    time_str = time_str.replace(',', '').strip()\n",
    "\n",
    "    # Check the consistency of the time format using regular expressions\n",
    "    match = re.match(r'(\\d{1,2}):(\\d{2}):(\\d{2})', time_str)\n",
    "    if match:\n",
    "        hours, minutes, seconds = map(int, match.groups())\n",
    "        total_seconds = hours * 3600 + minutes * 60 + seconds\n",
    "        if total_seconds == 0:\n",
    "            return np.nan\n",
    "        return total_seconds\n",
    "\n",
    "    # Do the same as the loop above, but now for MM:SS format.\n",
    "    match = re.match(r'(\\d{1,2}):(\\d{2})', time_str)\n",
    "    if match:\n",
    "        minutes, seconds = map(int, match.groups())\n",
    "        total_seconds = minutes * 60 + seconds\n",
    "        if total_seconds == 0:\n",
    "            return np.nan  \n",
    "        return total_seconds\n",
    "\n",
    "    # Do the same but for 0:00, 0:01, etc.\n",
    "    match = re.match(r'(\\d{1,2}):(\\d{1,2})', time_str)\n",
    "    if match:\n",
    "        minutes, seconds = map(int, match.groups())\n",
    "        total_seconds = minutes * 60 + seconds\n",
    "        if total_seconds == 0:\n",
    "            return np.nan \n",
    "        return total_seconds\n",
    "    \n",
    "    # If format doesn't match, return NaN\n",
    "    return np.nan\n",
    "\n",
    "# Apply the conversion function to the 'Time' column\n",
    "races_df['Time_seconds'] = races_df['Time'].apply(time_to_seconds)\n",
    "\n",
    "# print(races_df[['Time', 'Time_seconds']].head(10))\n",
    "# races_df.info()\n",
    "\n",
    "\"\"\"\n",
    "Converting timelag to total seconds\n",
    "\"\"\"\n",
    "\n",
    "def timelag_to_seconds(timelag_str):\n",
    "    # Check if the timelag_str contains missing values\n",
    "    if pd.isna(timelag_str):\n",
    "        return np.nan\n",
    "\n",
    "    timelag_str = timelag_str.lstrip('+').strip()\n",
    "\n",
    "    match = re.match(r'(\\d{1,2}):(\\d{2}):(\\d{2})', timelag_str)\n",
    "    if match:\n",
    "        hours, minutes, seconds = map(int, match.groups())\n",
    "        return hours * 3600 + minutes * 60 + seconds\n",
    "\n",
    "    match = re.match(r'(\\d{1,2}):(\\d{2})', timelag_str)\n",
    "    if match:\n",
    "        minutes, seconds = map(int, match.groups())\n",
    "        return minutes * 60 + seconds\n",
    "    \n",
    "    match = re.match(r'(\\d+):(\\d+)', timelag_str)\n",
    "    if match:\n",
    "        minutes, seconds = map(int, match.groups())\n",
    "        return minutes * 60 + seconds\n",
    "\n",
    "    return np.nan\n",
    "\n",
    "races_df['Timelag_seconds'] = races_df['Timelag'].apply(timelag_to_seconds)\n",
    "\n",
    "races_df['Timelag_seconds'] = races_df['Timelag_seconds'].replace(0.0, np.nan)\n",
    "\n",
    "print(races_df[['Timelag', 'Timelag_seconds']].head(10))\n",
    "\n",
    "\"\"\"\n",
    "Converting distance into single numerical value\n",
    "This means stripping 'km' from string and converting the remaining values into float64\n",
    "\"\"\"\n",
    "\n",
    "races_df['Length'] = races_df['Length'].str.replace(' km', '', regex=False)\n",
    "\n",
    "# Convert to numeric and replace 0 with NaN\n",
    "races_df['Length'] = pd.to_numeric(races_df['Length'], errors='coerce')  # Convert to numeric and handle errors\n",
    "\n",
    "# Replace 0 values with NaN\n",
    "races_df['Length'] = races_df['Length'].replace(0.0, np.nan)\n",
    "\n",
    "# print(races_df['Length'])\n",
    "\n",
    "\"\"\"\n",
    "Splitting values from 'rdr' and putting the split values into separate columns\n",
    "\"\"\"\n",
    "\n",
    "# Function to convert the 'rdr' string to separate ranking columns\n",
    "def extract_rankings(rdr_str):\n",
    "    try:\n",
    "        # Converting str to dict\n",
    "        rankings = ast.literal_eval(rdr_str)\n",
    "        \n",
    "        # Extracting ranks, while also handling missing keys\n",
    "        pcs_rnk = rankings.get('PCS Ranking', np.nan)\n",
    "        uci_rnk = rankings.get('UCI World Ranking', np.nan)\n",
    "        alltime_rnk = rankings.get('Specials | All Time Ranking', np.nan)\n",
    "        \n",
    "        return pd.Series([pcs_rnk, uci_rnk, alltime_rnk])\n",
    "    except:\n",
    "        return pd.Series([np.nan, np.nan, np.nan])\n",
    "\n",
    "# Apply the function to the 'rdr' column\n",
    "riders_df[['PCS_Rnk', 'UCI_Rnk', 'AllTime_Rnk']] = riders_df['rdr'].apply(extract_rankings)\n",
    "\n",
    "# Entries should be turned into numeric values, where errors get turned into NaN\n",
    "riders_df['PCS_Rnk'] = pd.to_numeric(riders_df['PCS_Rnk'], errors='coerce')\n",
    "riders_df['UCI_Rnk'] = pd.to_numeric(riders_df['UCI_Rnk'], errors='coerce')\n",
    "riders_df['AllTime_Rnk'] = pd.to_numeric(riders_df['AllTime_Rnk'], errors='coerce')\n",
    "\n",
    "# print(riders_df[['fullname', 'PCS_Rnk', 'UCI_Rnk', 'AllTime_Rnk']])\n",
    "\n",
    "\"\"\"\n",
    "Convert stage types to binary with label encoding\n",
    "\"\"\"\n",
    "\n",
    "races_df['Stage_Type_bin'] = races_df['Stage_Type'].map({'RR': 0, 'ITT': 1})\n",
    "\n",
    "\"\"\"\n",
    "Splitting values from 'pps' and putting those values into separate columns.\n",
    "\"\"\"\n",
    "\n",
    "def extract_points(pps_str):\n",
    "    try:\n",
    "        points = ast.literal_eval(pps_str)\n",
    "        \n",
    "        day_pnt = np.nan if points.get('One day races', '0') == '0' else points.get('One day races', np.nan)\n",
    "        gc_pnt = np.nan if points.get('GC', '0') == '0' else points.get('GC', np.nan)\n",
    "        tt_pnt = np.nan if points.get('Time trial', '0') == '0' else points.get('Time trial', np.nan)\n",
    "        sprint_pnt = np.nan if points.get('Sprint', '0') == '0' else points.get('Sprint', np.nan)\n",
    "        climb_pnt = np.nan if points.get('Climber', '0') == '0' else points.get('Climber', np.nan)\n",
    "        \n",
    "        return pd.Series([day_pnt, gc_pnt, tt_pnt, sprint_pnt, climb_pnt])\n",
    "    except:\n",
    "        return pd.Series([np.nan, np.nan, np.nan, np.nan, np.nan])\n",
    "\n",
    "riders_df[['Day_Pnt', 'GC_Pnt', 'TT_Pnt', 'Sprint_Pnt', 'Climb_Pnt']] = riders_df['pps'].apply(extract_points)\n",
    "\n",
    "riders_df['Day_Pnt'] = pd.to_numeric(riders_df['Day_Pnt'], errors='coerce')\n",
    "riders_df['GC_Pnt'] = pd.to_numeric(riders_df['GC_Pnt'], errors='coerce')\n",
    "riders_df['TT_Pnt'] = pd.to_numeric(riders_df['TT_Pnt'], errors='coerce')\n",
    "riders_df['Sprint_Pnt'] = pd.to_numeric(riders_df['Sprint_Pnt'], errors='coerce')\n",
    "riders_df['Climb_Pnt'] = pd.to_numeric(riders_df['Climb_Pnt'], errors='coerce')\n",
    "\n",
    "# print(riders_df[['fullname', 'Day_Pnt', 'GC_Pnt', 'TT_Pnt', 'Sprint_Pnt', 'Climb_Pnt']])\n",
    "\n",
    "\n",
    "\"\"\"\n",
    "Join the rider and race tables together, using the rider_id as an index\n",
    "\"\"\"\n",
    "\n",
    "df = races_df.set_index('rider_id').join(riders_df.set_index('rider_id'))\n",
    "\n",
    "\"\"\"\n",
    "Dropping columns that are not needed for analysis\n",
    "\"\"\"\n",
    "\n",
    "# Note: fix the long list\n",
    "df.drop(['Time', 'Timelag', 'rdr', 'pps', 'birthdate', 'rider_url', 'Race_url', 'Stage_url', 'Circuit', 'Race_Name', 'Stage_Name', 'Start', 'Finish', 'Category', 'Stage_Type'], axis=1, inplace=True)\n",
    "\n",
    "# Replace all remaining zero values with NaN\n",
    "df = df.replace(0, np.nan)\n",
    "\n",
    "print(df.isna().sum())\n",
    "print(\"\\ndone\")"
   ]
  },
  {
   "cell_type": "code",
   "execution_count": 98,
   "metadata": {},
   "outputs": [
    {
     "name": "stdout",
     "output_type": "stream",
     "text": [
      "NaNs before imputing:\n",
      " id                     0\n",
      "Rnk                    0\n",
      "GC                 10059\n",
      "BiB                    0\n",
      "Rider                  0\n",
      "Age                    0\n",
      "Team                  26\n",
      "UCI                77527\n",
      "Pnt                69767\n",
      "Date                   0\n",
      "Race_ID             2386\n",
      "Stage_Number           0\n",
      "Length              6495\n",
      "Month                  0\n",
      "Year                   0\n",
      "Time_seconds       18435\n",
      "Timelag_seconds    11212\n",
      "Stage_Type_bin     72484\n",
      "fullname           34208\n",
      "team               34208\n",
      "country            34208\n",
      "height             34260\n",
      "weight             34266\n",
      "PCS_Rnk            45842\n",
      "UCI_Rnk            46804\n",
      "AllTime_Rnk        53300\n",
      "Day_Pnt            34216\n",
      "GC_Pnt             34208\n",
      "TT_Pnt             34631\n",
      "Sprint_Pnt         34342\n",
      "Climb_Pnt          34365\n",
      "dtype: int64\n",
      "NaNs after imputing:\n",
      " id                     0\n",
      "Rnk                    0\n",
      "GC                 10059\n",
      "BiB                    0\n",
      "Rider                  0\n",
      "Age                    0\n",
      "Team                  26\n",
      "UCI                77527\n",
      "Pnt                69767\n",
      "Date                   0\n",
      "Race_ID             2386\n",
      "Stage_Number           0\n",
      "Length                 0\n",
      "Month                  0\n",
      "Year                   0\n",
      "Time_seconds       18435\n",
      "Timelag_seconds    11212\n",
      "Stage_Type_bin     72484\n",
      "fullname           34208\n",
      "team               34208\n",
      "country            34208\n",
      "height                 0\n",
      "weight                 0\n",
      "PCS_Rnk            45842\n",
      "UCI_Rnk            46804\n",
      "AllTime_Rnk        53300\n",
      "Day_Pnt            34216\n",
      "GC_Pnt             34208\n",
      "TT_Pnt             34631\n",
      "Sprint_Pnt         34342\n",
      "Climb_Pnt          34365\n",
      "dtype: int64\n"
     ]
    }
   ],
   "source": [
    "from sklearn.impute import KNNImputer\n",
    "\n",
    "# Create a copy of the DataFrame to avoid modifying the original\n",
    "#df_imp = df.copy()\n",
    "print(\"NaNs before imputing:\\n\", df.isna().sum())\n",
    "df_imp = df.copy()\n",
    "\n",
    "# Specify the columns to impute\n",
    "columns_impute = ['Age', 'Length', 'height', 'weight']\n",
    "\n",
    "# Initialize the KNNImputer with the number of neighbors (you can change n_neighbors)\n",
    "knn_imputer = KNNImputer(n_neighbors=5)\n",
    "\n",
    "# Perform KNN imputation on the selected columns\n",
    "# Note: We apply KNN imputation only on the relevant columns to avoid modifying other columns\n",
    "df_imp[columns_impute] = knn_imputer.fit_transform(df[columns_impute])\n",
    "\n",
    "# Check if there are any missing values left\n",
    "print(\"NaNs after imputing:\\n\", df_imp.isna().sum())"
   ]
  },
  {
   "cell_type": "code",
   "execution_count": 99,
   "metadata": {},
   "outputs": [
    {
     "data": {
      "text/plain": [
       "' # Imputate outliers using IQR\\n# Define a function for defining IQR \\ndef iqr_detect(iqr_data):\\n    Q1 = iqr_data.quantile(0.25)\\n    Q3 = iqr_data.quantile(0.75)\\n    IQR = Q3 - Q1\\n    lower_bound = Q1 - 1.5 * IQR\\n    upper_bound = Q3 + 1.5 * IQR\\n    return (iqr_data < lower_bound) | (iqr_data > upper_bound)\\n\\n\\nnumeric_columns = df_imp.select_dtypes(include=[\\'float64\\', \\'int64\\']).columns\\ncolumns_excl = [\\'id\\', \\'Rnk\\', \\'PCS_Rnk\\', \\'UCI_Rnk\\', \\'AllTime_Rnk\\', \\'Stage_Type_bin\\', \\'Race_ID\\', \\'Stage_Number\\']\\ncolumns_iqr = [col for col in numeric_columns if col not in columns_excl]\\n\\niqr_data = df_imp[columns_iqr]\\niqr_data = iqr_data.apply(pd.to_numeric, errors=\\'coerce\\')\\n\\noutliers = iqr_detect(iqr_data)\\noutliers = outliers.apply(pd.to_numeric, errors = \\'coerce\\')\\nprint(f\"Number of outliers detected: {outliers.sum().sum()}\")\\nprint(\"Outliers:\", iqr_data[outliers])\\n\\nfor col in columns_iqr:\\n    outliers_col = iqr_detect(iqr_data[col])\\n    print(f\"Outliers in {col}: {sum(outliers_col)}\")\\n    iqr_data = iqr_data[~outliers_col]  # Remove outliers for each column\\n\\nprint(\"Amount of NaNs:\\n\", iqr_data.isnull().sum()) '"
      ]
     },
     "execution_count": 99,
     "metadata": {},
     "output_type": "execute_result"
    }
   ],
   "source": [
    "\"\"\" # Imputate outliers using IQR\n",
    "# Define a function for defining IQR \n",
    "def iqr_detect(iqr_data):\n",
    "    Q1 = iqr_data.quantile(0.25)\n",
    "    Q3 = iqr_data.quantile(0.75)\n",
    "    IQR = Q3 - Q1\n",
    "    lower_bound = Q1 - 1.5 * IQR\n",
    "    upper_bound = Q3 + 1.5 * IQR\n",
    "    return (iqr_data < lower_bound) | (iqr_data > upper_bound)\n",
    "\n",
    "\n",
    "numeric_columns = df_imp.select_dtypes(include=['float64', 'int64']).columns\n",
    "columns_excl = ['id', 'Rnk', 'PCS_Rnk', 'UCI_Rnk', 'AllTime_Rnk', 'Stage_Type_bin', 'Race_ID', 'Stage_Number']\n",
    "columns_iqr = [col for col in numeric_columns if col not in columns_excl]\n",
    "\n",
    "iqr_data = df_imp[columns_iqr]\n",
    "iqr_data = iqr_data.apply(pd.to_numeric, errors='coerce')\n",
    "\n",
    "outliers = iqr_detect(iqr_data)\n",
    "outliers = outliers.apply(pd.to_numeric, errors = 'coerce')\n",
    "print(f\"Number of outliers detected: {outliers.sum().sum()}\")\n",
    "print(\"Outliers:\", iqr_data[outliers])\n",
    "\n",
    "for col in columns_iqr:\n",
    "    outliers_col = iqr_detect(iqr_data[col])\n",
    "    print(f\"Outliers in {col}: {sum(outliers_col)}\")\n",
    "    iqr_data = iqr_data[~outliers_col]  # Remove outliers for each column\n",
    "\n",
    "print(\"Amount of NaNs:\\n\", iqr_data.isnull().sum()) \"\"\""
   ]
  },
  {
   "cell_type": "code",
   "execution_count": 100,
   "metadata": {},
   "outputs": [
    {
     "name": "stdout",
     "output_type": "stream",
     "text": [
      "Old Shape:  (80174, 14)\n",
      "                                   GC   Age  UCI   Pnt  Length  Time_seconds  \\\n",
      "rider_id                                                                       \n",
      "659ed585810c65fe22255a5e4a9b7838  1.0  29.0  6.0  50.0   149.0       16420.0   \n",
      "None                              2.0  38.0  4.0  30.0   149.0           NaN   \n",
      "None                              4.0  28.0  2.0  18.0   149.0           NaN   \n",
      "13ed0fc8c2b0dcd2c4e1ac48b88166b8  8.0  26.0  1.0  13.0   149.0           NaN   \n",
      "c0c77a7b1a8b55d9641962ba21981cab  9.0  31.0  1.0  10.0   149.0           NaN   \n",
      "\n",
      "                                  Timelag_seconds  height  weight  Day_Pnt  \\\n",
      "rider_id                                                                     \n",
      "659ed585810c65fe22255a5e4a9b7838              NaN   1.840    80.0   4650.0   \n",
      "None                                          4.0   1.748    61.6      NaN   \n",
      "None                                          6.0   1.822    66.4      NaN   \n",
      "13ed0fc8c2b0dcd2c4e1ac48b88166b8             10.0   1.870    74.0    490.0   \n",
      "c0c77a7b1a8b55d9641962ba21981cab             10.0   1.830    71.0   3119.0   \n",
      "\n",
      "                                  GC_Pnt  TT_Pnt  Sprint_Pnt  Climb_Pnt  \n",
      "rider_id                                                                 \n",
      "659ed585810c65fe22255a5e4a9b7838  1921.0   530.0     15910.0      700.0  \n",
      "None                                 NaN     NaN         NaN        NaN  \n",
      "None                                 NaN     NaN         NaN        NaN  \n",
      "13ed0fc8c2b0dcd2c4e1ac48b88166b8   568.0    85.0      1050.0      103.0  \n",
      "c0c77a7b1a8b55d9641962ba21981cab  1088.0  1095.0      7838.0     1478.0  \n",
      "New Shape:  (1716, 14)\n"
     ]
    }
   ],
   "source": [
    "numeric_columns = df_imp.select_dtypes(include=['float64', 'int64']).columns\n",
    "columns_excl = ['id', 'Rnk', 'PCS_Rnk', 'UCI_Rnk', 'AllTime_Rnk', 'Stage_Type_bin', 'Race_ID', 'Stage_Number']\n",
    "columns_iqr = [col for col in numeric_columns if col not in columns_excl]\n",
    "\n",
    "print(\"Old Shape: \", df_imp[columns_iqr].shape)\n",
    "\n",
    "# IQR\n",
    "# Calculate the upper and lower limits\n",
    "Q1 = df_imp[columns_iqr].quantile(0.25)\n",
    "Q3 = df_imp[columns_iqr].quantile(0.75)\n",
    "IQR = Q3 - Q1\n",
    "lower = Q1 - 1.5*IQR\n",
    "upper = Q3 + 1.5*IQR\n",
    "\n",
    "# Create arrays of Boolean values indicating the outlier rows\n",
    "upper_outliers = df_imp[columns_iqr] >= upper\n",
    "lower_outliers = df_imp[columns_iqr] <= lower\n",
    "print(df_imp[columns_iqr].head())\n",
    "\n",
    "outliers = upper_outliers | lower_outliers\n",
    "\n",
    "outlier_indices = outliers.any(axis=1)\n",
    "\n",
    "# Removing the outliers\n",
    "df_imp.drop(index=df_imp[outlier_indices].index, inplace=True)\n",
    "\n",
    "print(\"New Shape: \", df_imp[columns_iqr].shape)"
   ]
  },
  {
   "cell_type": "code",
   "execution_count": null,
   "metadata": {},
   "outputs": [],
   "source": [
    "print(df)"
   ]
  },
  {
   "cell_type": "markdown",
   "metadata": {},
   "source": [
    "# PI7, Part  2: Dimension Reduction\n",
    "The aim of dimension reduction is to extract features from a dataset to reduce the amount of imput features while still retaining their original values. This is an important step in using our dataset for machine learning. \n",
    "\n",
    "Why is this important?\n",
    "\n",
    "When a dataset has a large amount of dimensions, the number of possible combinations of features will increase exponentially. This will make doing computations more difficult when trying to obtain representative samples of the data. If the algorithms need to process a large amount of data, it will computationally become very expensive. By simplifying our feature space, the complexity en computation time will drastically be decreased. Some machine learning models are also more sensitive to higher numbers of dimensions, which would, for the models, require more data to achieve the same level of accuracy than if they were using lower-dimensional data.\n",
    "\n",
    "<!-- Curse of Dimensionality -->"
   ]
  },
  {
   "cell_type": "markdown",
   "metadata": {},
   "source": [
    "#### 1.1: Principal Component Analysis\n",
    "In this part of the assignment, PCA will be performed over the dataset. PCA is a linear dimension reduction technique that aims to simplify the representation of the relations between two or more variables.\n",
    "\n",
    "PCA aims to capture directions which contain the most amount of variation into principle components. The first principle component will capture the most variance, the second will capture the second most variance and so on.\n",
    "\n",
    "Let's first try PCA using two variables: the total points a cyclist gained during sprints and their weight. Below are the two variables visualised in a scatterplot."
   ]
  },
  {
   "cell_type": "code",
   "execution_count": 101,
   "metadata": {},
   "outputs": [
    {
     "name": "stdout",
     "output_type": "stream",
     "text": [
      "        Sprint_Pnt       weight\n",
      "count  1715.000000  1715.000000\n",
      "mean    350.064723    66.608397\n",
      "std     456.793513     5.579974\n",
      "min       1.000000    55.000000\n",
      "25%      75.000000    63.000000\n",
      "50%     186.000000    67.000000\n",
      "75%     377.000000    70.000000\n",
      "max    2596.000000    81.000000\n"
     ]
    },
    {
     "data": {
      "image/png": "[encoded data removed]",
      "text/plain": [
       "<Figure size 640x480 with 1 Axes>"
      ]
     },
     "metadata": {},
     "output_type": "display_data"
    }
   ],
   "source": [
    "import matplotlib.pyplot as plt\n",
    "\n",
    "# We will be using 2 dimensions, since we aim to describe 2 features of the dataset\n",
    "d = 2\n",
    "\n",
    "df_pca_ex = df_imp[['Sprint_Pnt', 'weight']].dropna()\n",
    "\n",
    "plt.scatter(df_pca_ex['Sprint_Pnt'], df_pca_ex['weight'], s=10)\n",
    "\n",
    "print(df_pca_ex.describe())"
   ]
  },
  {
   "cell_type": "markdown",
   "metadata": {},
   "source": [
    "To make the two variables relative to another, we will use z-standardization.\n",
    "\n",
    "$Z = \\frac{X - \\mu}{\\sigma}$"
   ]
  },
  {
   "cell_type": "code",
   "execution_count": 102,
   "metadata": {},
   "outputs": [],
   "source": [
    "df_pca_ex_z = (df_pca_ex - df_pca_ex.mean()) / df_pca_ex.std()"
   ]
  },
  {
   "cell_type": "markdown",
   "metadata": {},
   "source": [
    "Now let's apply PCA for the first component."
   ]
  },
  {
   "cell_type": "code",
   "execution_count": 103,
   "metadata": {},
   "outputs": [
    {
     "name": "stderr",
     "output_type": "stream",
     "text": [
      "/tmp/ipykernel_27741/1273697288.py:20: FutureWarning: Series.__getitem__ treating keys as positions is deprecated. In a future version, integer keys will always be treated as labels (consistent with DataFrame behavior). To access a value by position, use `ser.iloc[pos]`\n",
      "  ax1.plot([pc1_start[0], pc1_end[0]], [pc1_start[1], pc1_end[1]], c='r', label='PC1 projection')\n"
     ]
    },
    {
     "data": {
      "image/png": "[encoded data removed]",
      "text/plain": [
       "<Figure size 1000x500 with 2 Axes>"
      ]
     },
     "metadata": {},
     "output_type": "display_data"
    }
   ],
   "source": [
    "from sklearn.decomposition import PCA\n",
    "\n",
    "pca = PCA(n_components=1).fit(df_pca_ex_z)\n",
    "df_proj = pca.transform(df_pca_ex_z)\n",
    "\n",
    "fig, (ax1, ax2) = plt.subplots(1, 2, figsize=(10, 5))\n",
    "ax1.scatter(df_pca_ex_z['Sprint_Pnt'], df_pca_ex_z['weight'], s=10)\n",
    "\n",
    "# Plot original data + PCA projection line\n",
    "mean = df_pca_ex_z.mean()\n",
    "\n",
    "# Extract the first principle component into an object\n",
    "pc1 = pca.components_[0]\n",
    "\n",
    "# Plot a line for the first principle component passing through the mean\n",
    "# Apply an arbitrary scale of 3 for passing through the mean\n",
    "pc1_start = mean - 3 * pc1\n",
    "pc1_end = mean + 3 * pc1\n",
    "\n",
    "ax1.plot([pc1_start[0], pc1_end[0]], [pc1_start[1], pc1_end[1]], c='r', label='PC1 projection')\n",
    "ax1.set_title(f\"Original data with projection line\")\n",
    "\n",
    "# histogram of projected data\n",
    "ax2.hist(df_proj, bins=50)\n",
    "ax2.set_title(f\"Histogram of projected data\")\n",
    "plt.show()"
   ]
  },
  {
   "cell_type": "markdown",
   "metadata": {},
   "source": [
    "Below we can prove that two features were reduced into a principal component."
   ]
  },
  {
   "cell_type": "code",
   "execution_count": 104,
   "metadata": {},
   "outputs": [
    {
     "data": {
      "text/plain": [
       "((1715, 2), (1715, 1))"
      ]
     },
     "execution_count": 104,
     "metadata": {},
     "output_type": "execute_result"
    }
   ],
   "source": [
    "df_pca_ex_z.shape, df_proj.shape"
   ]
  },
  {
   "cell_type": "markdown",
   "metadata": {},
   "source": [
    "##### Cumulative Variance Ratio\n",
    "<!--  -->"
   ]
  },
  {
   "cell_type": "code",
   "execution_count": 105,
   "metadata": {},
   "outputs": [
    {
     "data": {
      "text/plain": [
       "array([0.63805069])"
      ]
     },
     "execution_count": 105,
     "metadata": {},
     "output_type": "execute_result"
    }
   ],
   "source": [
    "pca.explained_variance_ratio_"
   ]
  },
  {
   "cell_type": "code",
   "execution_count": null,
   "metadata": {},
   "outputs": [],
   "source": [
    "pca = PCA(n_components=df_pca_ex_z.shape[1]).fit(df_pca_ex_z)\n",
    "X_proj = pca.transform(df_pca_ex_z)\n",
    "\n",
    "cumulative_expl_var = np.cumsum(pca.explained_variance_ratio_)\n",
    "plt.plot(range(len(pca.explained_variance_)), cumulative_expl_var, alpha=0.5)\n",
    "plt.scatter(range(len(pca.explained_variance_)), cumulative_expl_var, s=5)\n",
    "plt.xlabel(\"n components\")\n",
    "plt.ylabel(\"explained cumulative variance\")\n",
    "plt.axhline(0.9, color='red')"
   ]
  }
 ],
 "metadata": {
  "kernelspec": {
   "display_name": ".venv",
   "language": "python",
   "name": "python3"
  },
  "language_info": {
   "codemirror_mode": {
    "name": "ipython",
    "version": 3
   },
   "file_extension": ".py",
   "mimetype": "text/x-python",
   "name": "python",
   "nbconvert_exporter": "python",
   "pygments_lexer": "ipython3",
   "version": "3.13.1"
  }
 },
 "nbformat": 4,
 "nbformat_minor": 2
}
