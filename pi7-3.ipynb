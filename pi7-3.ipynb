{
 "cells": [
  {
   "cell_type": "code",
   "execution_count": 1,
   "metadata": {},
   "outputs": [],
   "source": [
    "# Imports\n",
    "import sqlite3 as lite\n",
    "import pandas as pd\n",
    "import re\n",
    "import numpy as np\n",
    "import ast\n",
    "import matplotlib.pyplot as plt\n",
    "from sklearn.impute import SimpleImputer\n",
    "from sklearn.model_selection import train_test_split, RandomizedSearchCV\n",
    "from sklearn.ensemble import RandomForestRegressor, HistGradientBoostingRegressor, ExtraTreesClassifier\n",
    "from sklearn.feature_selection import SelectFromModel\n",
    "from sklearn.svm import SVR, LinearSVC\n",
    "from sklearn.metrics import mean_absolute_error, mean_absolute_percentage_error, r2_score\n",
    "from sklearn.pipeline import Pipeline\n",
    "from sklearn.preprocessing import StandardScaler"
   ]
  },
  {
   "cell_type": "code",
   "execution_count": 2,
   "metadata": {},
   "outputs": [
    {
     "name": "stdout",
     "output_type": "stream",
     "text": [
      "Amount of rows in races_df:  225918\n",
      "Amount of rows in riders_df:  1042\n",
      "Unique values for 'months':  [ 1  3  4  5  6  7  8  9 10] \n",
      "\n",
      "Unique values for 'years':  [2012 2014 2015 2017 2018 2020 2021]\n",
      "  Timelag  Timelag_seconds\n",
      "0   +0:00              NaN\n",
      "1   +0:04              4.0\n",
      "2   +0:06              6.0\n",
      "3   +0:10             10.0\n",
      "4   +0:10             10.0\n",
      "5   +0:10             10.0\n",
      "6   +0:10             10.0\n",
      "7   +0:10             10.0\n",
      "8   +0:10             10.0\n",
      "9   +0:10             10.0\n"
     ]
    }
   ],
   "source": [
    "conn = lite.connect('cycling_big.db')\n",
    "\n",
    "riders_df = pd.read_sql_query('SELECT * FROM riders;', conn)\n",
    "races_df = pd.read_sql_query('SELECT * FROM race_results', conn)\n",
    "\n",
    "print(\"Amount of rows in races_df: \", races_df[races_df.columns[0]].count())\n",
    "print(\"Amount of rows in riders_df: \", riders_df[riders_df.columns[0]].count())\n",
    "\n",
    "conn.close()\n",
    "\n",
    "\"\"\"\n",
    "Convert the 'Date' column to DateTime format\n",
    "Regarding races_df dataframe!\n",
    "\"\"\"\n",
    "\n",
    "races_df['Date'] = pd.to_datetime(races_df['Date'], errors='coerce', format='%d %B %Y')\n",
    "\n",
    "# Remove rows where 'Date' is NaT\n",
    "races_df = races_df.dropna(subset=['Date'])\n",
    "\n",
    "# Normalize 'Date' to strip out time if it's present (this keeps just the date part)\n",
    "races_df['Date'] = races_df['Date'].dt.normalize()\n",
    "\n",
    "# Extract the month and year from the column and put them in their own columns\n",
    "races_df['Month'] = races_df['Date'].dt.month\n",
    "races_df['Year'] = races_df['Date'].dt.year\n",
    "\n",
    "print(\"Unique values for 'months': \", races_df['Month'].unique(), \"\\n\")\n",
    "print(\"Unique values for 'years': \",races_df['Year'].unique())\n",
    "\n",
    "\"\"\"\n",
    "Converting the timetable to total seconds\n",
    "\"\"\"\n",
    "\n",
    "def time_to_seconds(time_str):\n",
    "    # Remove commas and any spaces\n",
    "    time_str = time_str.replace(',', '').strip()\n",
    "\n",
    "    # Check the consistency of the time format using regular expressions\n",
    "    match = re.match(r'(\\d{1,2}):(\\d{2}):(\\d{2})', time_str)\n",
    "    if match:\n",
    "        hours, minutes, seconds = map(int, match.groups())\n",
    "        total_seconds = hours * 3600 + minutes * 60 + seconds\n",
    "        if total_seconds == 0:\n",
    "            return np.nan\n",
    "        return total_seconds\n",
    "\n",
    "    # Do the same as the loop above, but now for MM:SS format.\n",
    "    match = re.match(r'(\\d{1,2}):(\\d{2})', time_str)\n",
    "    if match:\n",
    "        minutes, seconds = map(int, match.groups())\n",
    "        total_seconds = minutes * 60 + seconds\n",
    "        if total_seconds == 0:\n",
    "            return np.nan  \n",
    "        return total_seconds\n",
    "\n",
    "    # Do the same but for 0:00, 0:01, etc.\n",
    "    match = re.match(r'(\\d{1,2}):(\\d{1,2})', time_str)\n",
    "    if match:\n",
    "        minutes, seconds = map(int, match.groups())\n",
    "        total_seconds = minutes * 60 + seconds\n",
    "        if total_seconds == 0:\n",
    "            return np.nan \n",
    "        return total_seconds\n",
    "    \n",
    "    # If format doesn't match, return NaN\n",
    "    return np.nan\n",
    "\n",
    "# Apply the conversion function to the 'Time' column\n",
    "races_df['Time_seconds'] = races_df['Time'].apply(time_to_seconds)\n",
    "\n",
    "# print(races_df[['Time', 'Time_seconds']].head(10))\n",
    "# races_df.info()\n",
    "\n",
    "\"\"\"\n",
    "Converting timelag to total seconds\n",
    "\"\"\"\n",
    "\n",
    "def timelag_to_seconds(timelag_str):\n",
    "    # Check if the timelag_str contains missing values\n",
    "    if pd.isna(timelag_str):\n",
    "        return np.nan\n",
    "\n",
    "    timelag_str = timelag_str.lstrip('+').strip()\n",
    "\n",
    "    match = re.match(r'(\\d{1,2}):(\\d{2}):(\\d{2})', timelag_str)\n",
    "    if match:\n",
    "        hours, minutes, seconds = map(int, match.groups())\n",
    "        return hours * 3600 + minutes * 60 + seconds\n",
    "\n",
    "    match = re.match(r'(\\d{1,2}):(\\d{2})', timelag_str)\n",
    "    if match:\n",
    "        minutes, seconds = map(int, match.groups())\n",
    "        return minutes * 60 + seconds\n",
    "    \n",
    "    match = re.match(r'(\\d+):(\\d+)', timelag_str)\n",
    "    if match:\n",
    "        minutes, seconds = map(int, match.groups())\n",
    "        return minutes * 60 + seconds\n",
    "\n",
    "    return np.nan\n",
    "\n",
    "races_df['Timelag_seconds'] = races_df['Timelag'].apply(timelag_to_seconds)\n",
    "\n",
    "races_df['Timelag_seconds'] = races_df['Timelag_seconds'].replace(0.0, np.nan)\n",
    "\n",
    "print(races_df[['Timelag', 'Timelag_seconds']].head(10))\n",
    "\n",
    "\"\"\"\n",
    "Converting distance into single numerical value\n",
    "This means stripping 'km' from string and converting the remaining values into float64\n",
    "\"\"\"\n",
    "\n",
    "races_df['Length'] = races_df['Length'].str.replace(' km', '', regex=False)\n",
    "\n",
    "# Convert to numeric and replace 0 with NaN\n",
    "races_df['Length'] = pd.to_numeric(races_df['Length'], errors='coerce')  # Convert to numeric and handle errors\n",
    "\n",
    "# Replace 0 values with NaN\n",
    "races_df['Length'] = races_df['Length'].replace(0.0, np.nan)\n",
    "\n",
    "# print(races_df['Length'])\n",
    "\n",
    "\"\"\"\n",
    "Splitting values from 'rdr' and putting the split values into separate columns\n",
    "\"\"\"\n",
    "\n",
    "# Function to convert the 'rdr' string to separate ranking columns\n",
    "def extract_rankings(rdr_str):\n",
    "    try:\n",
    "        # Converting str to dict\n",
    "        rankings = ast.literal_eval(rdr_str)\n",
    "        \n",
    "        # Extracting ranks, while also handling missing keys\n",
    "        pcs_rnk = rankings.get('PCS Ranking', np.nan)\n",
    "        uci_rnk = rankings.get('UCI World Ranking', np.nan)\n",
    "        alltime_rnk = rankings.get('Specials | All Time Ranking', np.nan)\n",
    "        \n",
    "        return pd.Series([pcs_rnk, uci_rnk, alltime_rnk])\n",
    "    except:\n",
    "        return pd.Series([np.nan, np.nan, np.nan])\n",
    "\n",
    "# Apply the function to the 'rdr' column\n",
    "riders_df[['PCS_Rnk', 'UCI_Rnk', 'AllTime_Rnk']] = riders_df['rdr'].apply(extract_rankings)\n",
    "\n",
    "# Entries should be turned into numeric values, where errors get turned into NaN\n",
    "riders_df['PCS_Rnk'] = pd.to_numeric(riders_df['PCS_Rnk'], errors='coerce')\n",
    "riders_df['UCI_Rnk'] = pd.to_numeric(riders_df['UCI_Rnk'], errors='coerce')\n",
    "riders_df['AllTime_Rnk'] = pd.to_numeric(riders_df['AllTime_Rnk'], errors='coerce')\n",
    "\n",
    "# print(riders_df[['fullname', 'PCS_Rnk', 'UCI_Rnk', 'AllTime_Rnk']])\n",
    "\n",
    "\"\"\"\n",
    "Convert stage types to binary with label encoding\n",
    "\"\"\"\n",
    "\n",
    "races_df['Stage_Type_bin'] = races_df['Stage_Type'].map({'RR': 0, 'ITT': 1})\n",
    "\n",
    "\"\"\"\n",
    "Splitting values from 'pps' and putting those values into separate columns.\n",
    "\"\"\"\n",
    "\n",
    "def extract_points(pps_str):\n",
    "    try:\n",
    "        points = ast.literal_eval(pps_str)\n",
    "        \n",
    "        day_pnt = np.nan if points.get('One day races', '0') == '0' else points.get('One day races', np.nan)\n",
    "        gc_pnt = np.nan if points.get('GC', '0') == '0' else points.get('GC', np.nan)\n",
    "        tt_pnt = np.nan if points.get('Time trial', '0') == '0' else points.get('Time trial', np.nan)\n",
    "        sprint_pnt = np.nan if points.get('Sprint', '0') == '0' else points.get('Sprint', np.nan)\n",
    "        climb_pnt = np.nan if points.get('Climber', '0') == '0' else points.get('Climber', np.nan)\n",
    "        \n",
    "        return pd.Series([day_pnt, gc_pnt, tt_pnt, sprint_pnt, climb_pnt])\n",
    "    except:\n",
    "        return pd.Series([np.nan, np.nan, np.nan, np.nan, np.nan])\n",
    "\n",
    "riders_df[['Day_Pnt', 'GC_Pnt', 'TT_Pnt', 'Sprint_Pnt', 'Climb_Pnt']] = riders_df['pps'].apply(extract_points)\n",
    "\n",
    "riders_df['Day_Pnt'] = pd.to_numeric(riders_df['Day_Pnt'], errors='coerce')\n",
    "riders_df['GC_Pnt'] = pd.to_numeric(riders_df['GC_Pnt'], errors='coerce')\n",
    "riders_df['TT_Pnt'] = pd.to_numeric(riders_df['TT_Pnt'], errors='coerce')\n",
    "riders_df['Sprint_Pnt'] = pd.to_numeric(riders_df['Sprint_Pnt'], errors='coerce')\n",
    "riders_df['Climb_Pnt'] = pd.to_numeric(riders_df['Climb_Pnt'], errors='coerce')\n"
   ]
  },
  {
   "cell_type": "code",
   "execution_count": 3,
   "metadata": {},
   "outputs": [
    {
     "name": "stdout",
     "output_type": "stream",
     "text": [
      "0          BARDET Romain\n",
      "1        DUMOULIN Samuel\n",
      "2          GALLOPIN Tony\n",
      "3          NAESEN Oliver\n",
      "4          FRANK Mathias\n",
      "              ...       \n",
      "1037      TRONDSEN Trond\n",
      "1038    VAN MELSEN Kévin\n",
      "1039     BEULLENS Cédric\n",
      "1040    DE WINTER Ludwig\n",
      "1041      DELACROIX Théo\n",
      "Name: fullname, Length: 1042, dtype: object\n"
     ]
    }
   ],
   "source": [
    "print(riders_df['fullname'])"
   ]
  },
  {
   "cell_type": "code",
   "execution_count": 4,
   "metadata": {},
   "outputs": [
    {
     "name": "stdout",
     "output_type": "stream",
     "text": [
      "0          BARDET_Romain\n",
      "1        DUMOULIN_Samuel\n",
      "2          GALLOPIN_Tony\n",
      "3          NAESEN_Oliver\n",
      "4          FRANK_Mathias\n",
      "              ...       \n",
      "1037      TRONDSEN_Trond\n",
      "1038    VAN_MELSEN_Kévin\n",
      "1039     BEULLENS_Cédric\n",
      "1040    DE_WINTER_Ludwig\n",
      "1041      DELACROIX_Théo\n",
      "Name: fullname, Length: 1042, dtype: object\n"
     ]
    }
   ],
   "source": [
    "riders_df['fullname'] = riders_df['fullname'].str.replace(' ', '_') \n",
    "print(riders_df['fullname'])"
   ]
  },
  {
   "cell_type": "code",
   "execution_count": 5,
   "metadata": {},
   "outputs": [
    {
     "name": "stdout",
     "output_type": "stream",
     "text": [
      "Amount of rows in races_df post cleanup:  80174\n",
      "Amount of rows in riders_df post cleanup:  1042\n",
      "Amount of rows in df:  80174\n",
      "Rnk                    0\n",
      "GC                 10059\n",
      "BiB                    0\n",
      "Rider                  0\n",
      "Age                    0\n",
      "UCI                77527\n",
      "Pnt                69767\n",
      "Length              6495\n",
      "Month                  0\n",
      "Year                   0\n",
      "Time_seconds       18435\n",
      "Timelag_seconds    11212\n",
      "Stage_Type_bin     72484\n",
      "fullname           34208\n",
      "team               34208\n",
      "country            34208\n",
      "height             34260\n",
      "weight             34266\n",
      "PCS_Rnk            45842\n",
      "UCI_Rnk            46804\n",
      "AllTime_Rnk        53300\n",
      "Day_Pnt            34216\n",
      "GC_Pnt             34208\n",
      "TT_Pnt             34631\n",
      "Sprint_Pnt         34342\n",
      "Climb_Pnt          34365\n",
      "dtype: int64\n",
      "Amount of rows in df after cleanup:  80174\n",
      "\n",
      "done\n"
     ]
    }
   ],
   "source": [
    "\"\"\"\n",
    "Join the rider and race tables together, using the rider_id as an index\n",
    "\"\"\"\n",
    "print(\"Amount of rows in races_df post cleanup: \", races_df[races_df.columns[0]].count())\n",
    "print(\"Amount of rows in riders_df post cleanup: \", riders_df[riders_df.columns[0]].count())\n",
    "\n",
    "df = races_df.set_index('rider_id').join(riders_df.set_index('rider_id'), how = 'left')\n",
    "\n",
    "print(\"Amount of rows in df: \", df[df.columns[0]].count())\n",
    "\n",
    "\"\"\"\n",
    "Dropping columns that are not needed for analysis\n",
    "\"\"\"\n",
    "\n",
    "# Note: fix the long list\n",
    "df.drop(['Time', 'Timelag', 'rdr', 'pps', 'birthdate', 'rider_url', 'Race_url', 'Stage_url', 'Circuit', 'Race_Name', 'Stage_Name', 'Start', 'Finish', 'Category', 'Stage_Type'], axis=1, inplace=True)\n",
    "\n",
    "# Additional drops:\n",
    "df = df.drop(columns=['id', 'Team', 'Date', 'Race_ID', 'Stage_Number', 'Team'])\n",
    "# Replace all remaining zero values with NaN\n",
    "df = df.replace(0, np.nan)\n",
    "\n",
    "print(df.isna().sum())\n",
    "print(\"Amount of rows in df after cleanup: \", df[df.columns[0]].count())\n",
    "print(\"\\ndone\")"
   ]
  },
  {
   "cell_type": "markdown",
   "metadata": {},
   "source": [
    "'Rnk' or final rank will be used as the target value. This column still contains alot of numerical values for 'DNF', meaning this will need to get cleaned up. Removing non-numericals, like DNF, DNS and OTL, does not impact the amount of available data by a large amount, so we will result in dropping these entries. Since these entries will most likely not contain any useful information (since the rider never finished or fouled), these entries will be dropped."
   ]
  },
  {
   "cell_type": "code",
   "execution_count": 6,
   "metadata": {},
   "outputs": [],
   "source": [
    "df['Rnk'] = pd.to_numeric(df['Rnk'], errors='coerce')"
   ]
  },
  {
   "cell_type": "markdown",
   "metadata": {},
   "source": [
    "### PI 7: Part 3\n"
   ]
  },
  {
   "cell_type": "markdown",
   "metadata": {},
   "source": [
    "#### 1.1 Appropriate Machine Learning Models\n",
    "In this section, the selection of supervised machine learning models in the context of the current dataset will be discussed."
   ]
  },
  {
   "cell_type": "markdown",
   "metadata": {},
   "source": [
    "#### 1.2.1 Random Forest\n",
    "*Random forest* is an ensemble method, that makes use of bootstrapping catergorical and regression trees (cart). As stated in *part 2* of the assignment, cart is a decision tree that classifies records based on the conditions in the *decision nodes*, where the final classification, or regression, is determined in the *leaf nodes*. See the code from <code>pi7-2.ipynb</code> for a more in-depth explanation of decision trees.\n",
    "\n",
    "\n",
    "**What is ensemble learning?**\n",
    "- Ensemble learning is a model that will construct a number of models, with the aim to improve its prediction rate.\n",
    "Two popular ensemble methods include *bagging* (Bootstrap Aggregation) and *boosting*. With bagging, weak models are trained in parallel, where each model learns from a given partition of the dataset. The results from each of these models are then combined by either averaging (regression) or voting (classification). With boosting, a sequential method, each model is trained on a weighted training set, where each model corrects the weights based on the error from its predecessors."
   ]
  },
  {
   "cell_type": "markdown",
   "metadata": {},
   "source": [
    "The random forest method will, with regression, create multiple decision trees during training, where the output is the average prediction of the trees.\n",
    "Standalone trees are prone to high variance and overgrowing, resulting in overfitting. Random forest aims to overcome this by selecting a random set of features for a decision tree, where each tree will make a prediction based on the given features. In the final step, all predictions from the trees are averaged (regression). This provides a degree of randomness for the model, gaining the benefit of:\n",
    "- Reducing overfitting: by using different subsets of features, this model reduces the risk of training on only a specific subset specific patterns\n",
    "in the dataset.\n",
    "- Generalization: by combining predictions from multiple trees, a wider range of patterns is captured in the dataset, which makes the model moder generalized. "
   ]
  },
  {
   "cell_type": "markdown",
   "metadata": {},
   "source": [
    "##### 1.2.3 Implementation\n",
    "Below is an implementation of random forest on the current dataset."
   ]
  },
  {
   "cell_type": "code",
   "execution_count": 7,
   "metadata": {},
   "outputs": [],
   "source": [
    "# Prepare dataframe with only numericals, because regression\n",
    "# Variable selection will be done later\n",
    "df_ml = df.select_dtypes(include='number')"
   ]
  },
  {
   "cell_type": "code",
   "execution_count": 8,
   "metadata": {},
   "outputs": [
    {
     "name": "stdout",
     "output_type": "stream",
     "text": [
      "<class 'pandas.core.frame.DataFrame'>\n",
      "Index: 80174 entries, 659ed585810c65fe22255a5e4a9b7838 to 0292146b9196ec7a98903cb50dae48cd\n",
      "Data columns (total 21 columns):\n",
      " #   Column           Non-Null Count  Dtype  \n",
      "---  ------           --------------  -----  \n",
      " 0   Rnk              74955 non-null  float64\n",
      " 1   GC               70115 non-null  float64\n",
      " 2   Age              80174 non-null  int64  \n",
      " 3   UCI              2647 non-null   float64\n",
      " 4   Pnt              10407 non-null  float64\n",
      " 5   Length           73679 non-null  float64\n",
      " 6   Month            80174 non-null  int32  \n",
      " 7   Year             80174 non-null  int32  \n",
      " 8   Time_seconds     61739 non-null  float64\n",
      " 9   Timelag_seconds  68962 non-null  float64\n",
      " 10  Stage_Type_bin   7690 non-null   float64\n",
      " 11  height           45914 non-null  float64\n",
      " 12  weight           45908 non-null  float64\n",
      " 13  PCS_Rnk          34332 non-null  float64\n",
      " 14  UCI_Rnk          33370 non-null  float64\n",
      " 15  AllTime_Rnk      26874 non-null  float64\n",
      " 16  Day_Pnt          45958 non-null  float64\n",
      " 17  GC_Pnt           45966 non-null  float64\n",
      " 18  TT_Pnt           45543 non-null  float64\n",
      " 19  Sprint_Pnt       45832 non-null  float64\n",
      " 20  Climb_Pnt        45809 non-null  float64\n",
      "dtypes: float64(18), int32(2), int64(1)\n",
      "memory usage: 12.8+ MB\n"
     ]
    }
   ],
   "source": [
    "df_ml.info()"
   ]
  },
  {
   "cell_type": "markdown",
   "metadata": {},
   "source": [
    "Datapoints from the lower 20% and upper 80% are removed from the dataset. This reduces the size of the dataset significantly, making training\n",
    "computationally more feasible in the later stages and will remove any outliers."
   ]
  },
  {
   "cell_type": "code",
   "execution_count": 9,
   "metadata": {},
   "outputs": [],
   "source": [
    "q_low = df_ml.quantile(0.2)\n",
    "q_hi = df_ml.quantile(0.8)\n",
    "\n",
    "df_filtered = df_ml[(df_ml < q_hi) & (df_ml > q_low)]"
   ]
  },
  {
   "cell_type": "markdown",
   "metadata": {},
   "source": [
    "Missing entries will be filled using the mean value, making more data available for training. Mean was chosen, since this method is \n",
    "computationally inexpensive, making the process more feasible timewise. This does degrade accuracy in finding underlying patterns."
   ]
  },
  {
   "cell_type": "code",
   "execution_count": 10,
   "metadata": {},
   "outputs": [
    {
     "name": "stderr",
     "output_type": "stream",
     "text": [
      "/home/th0miz/Documents/School/DatSci_PI7-1/.venv/lib/python3.13/site-packages/sklearn/impute/_base.py:635: UserWarning: Skipping features without any observed values: ['Stage_Type_bin']. At least one non-missing value is needed for imputation with strategy='mean'.\n",
      "  warnings.warn(\n"
     ]
    }
   ],
   "source": [
    "imp = SimpleImputer(strategy='mean').set_output(transform='pandas')\n",
    "\n",
    "imp.fit(df_filtered)\n",
    "df_filtered = imp.transform(df_filtered)"
   ]
  },
  {
   "cell_type": "code",
   "execution_count": 11,
   "metadata": {},
   "outputs": [
    {
     "name": "stdout",
     "output_type": "stream",
     "text": [
      "<class 'pandas.core.frame.DataFrame'>\n",
      "Index: 80174 entries, 659ed585810c65fe22255a5e4a9b7838 to 0292146b9196ec7a98903cb50dae48cd\n",
      "Data columns (total 20 columns):\n",
      " #   Column           Non-Null Count  Dtype  \n",
      "---  ------           --------------  -----  \n",
      " 0   Rnk              80174 non-null  float64\n",
      " 1   GC               80174 non-null  float64\n",
      " 2   Age              80174 non-null  float64\n",
      " 3   UCI              80174 non-null  float64\n",
      " 4   Pnt              80174 non-null  float64\n",
      " 5   Length           80174 non-null  float64\n",
      " 6   Month            80174 non-null  float64\n",
      " 7   Year             80174 non-null  float64\n",
      " 8   Time_seconds     80174 non-null  float64\n",
      " 9   Timelag_seconds  80174 non-null  float64\n",
      " 10  height           80174 non-null  float64\n",
      " 11  weight           80174 non-null  float64\n",
      " 12  PCS_Rnk          80174 non-null  float64\n",
      " 13  UCI_Rnk          80174 non-null  float64\n",
      " 14  AllTime_Rnk      80174 non-null  float64\n",
      " 15  Day_Pnt          80174 non-null  float64\n",
      " 16  GC_Pnt           80174 non-null  float64\n",
      " 17  TT_Pnt           80174 non-null  float64\n",
      " 18  Sprint_Pnt       80174 non-null  float64\n",
      " 19  Climb_Pnt        80174 non-null  float64\n",
      "dtypes: float64(20)\n",
      "memory usage: 12.8+ MB\n"
     ]
    }
   ],
   "source": [
    "df_filtered.info()"
   ]
  },
  {
   "cell_type": "markdown",
   "metadata": {},
   "source": [
    "X represents the predictor values (row 1 to n), y represents the target values (ranking)."
   ]
  },
  {
   "cell_type": "code",
   "execution_count": 12,
   "metadata": {},
   "outputs": [],
   "source": [
    "X = df_filtered.iloc[:, 1:]\n",
    "y = df_filtered.iloc[:, 0]"
   ]
  },
  {
   "cell_type": "code",
   "execution_count": 28,
   "metadata": {},
   "outputs": [
    {
     "name": "stdout",
     "output_type": "stream",
     "text": [
      "<class 'pandas.core.frame.DataFrame'>\n",
      "Index: 80174 entries, 659ed585810c65fe22255a5e4a9b7838 to 0292146b9196ec7a98903cb50dae48cd\n",
      "Data columns (total 19 columns):\n",
      " #   Column           Non-Null Count  Dtype  \n",
      "---  ------           --------------  -----  \n",
      " 0   GC               80174 non-null  float64\n",
      " 1   Age              80174 non-null  float64\n",
      " 2   UCI              80174 non-null  float64\n",
      " 3   Pnt              80174 non-null  float64\n",
      " 4   Length           80174 non-null  float64\n",
      " 5   Month            80174 non-null  float64\n",
      " 6   Year             80174 non-null  float64\n",
      " 7   Time_seconds     80174 non-null  float64\n",
      " 8   Timelag_seconds  80174 non-null  float64\n",
      " 9   height           80174 non-null  float64\n",
      " 10  weight           80174 non-null  float64\n",
      " 11  PCS_Rnk          80174 non-null  float64\n",
      " 12  UCI_Rnk          80174 non-null  float64\n",
      " 13  AllTime_Rnk      80174 non-null  float64\n",
      " 14  Day_Pnt          80174 non-null  float64\n",
      " 15  GC_Pnt           80174 non-null  float64\n",
      " 16  TT_Pnt           80174 non-null  float64\n",
      " 17  Sprint_Pnt       80174 non-null  float64\n",
      " 18  Climb_Pnt        80174 non-null  float64\n",
      "dtypes: float64(19)\n",
      "memory usage: 14.2+ MB\n"
     ]
    }
   ],
   "source": [
    "X.info()"
   ]
  },
  {
   "cell_type": "markdown",
   "metadata": {},
   "source": [
    "A train-test split is also made, where the models are able to train on 80% of the dataset, and tested/validated on the remaining 20%."
   ]
  },
  {
   "cell_type": "code",
   "execution_count": 13,
   "metadata": {},
   "outputs": [],
   "source": [
    "X_train, X_test, y_train, y_test = train_test_split(X, y, random_state=42, train_size=0.8)"
   ]
  },
  {
   "cell_type": "markdown",
   "metadata": {},
   "source": [
    "#### actual implement\n",
    "Below is the actual implementation of the random forest regression model. A pipeline is set up to enable feature selection in a more concise statement, making the code more concise. Feature selection is performed by first training a model to extract the most important variables in the first model. Next, those captured variables are used for training the actual model. This makes training more complex timewise, but it does seem to improve accuracy rating and pattern capturing."
   ]
  },
  {
   "cell_type": "code",
   "execution_count": 33,
   "metadata": {},
   "outputs": [
    {
     "name": "stdout",
     "output_type": "stream",
     "text": [
      "Pipeline test score: 0.30190076820878364\n"
     ]
    }
   ],
   "source": [
    "forest = RandomForestRegressor(n_estimators=100)\n",
    "forest.fit(X_test, y_test)\n",
    "\n",
    "\n",
    "# Hyperparameters are adjusted to findings from random search cv\n",
    "pipeline_forest = Pipeline([\n",
    "    ('feature_selection', SelectFromModel(estimator=forest)),\n",
    "    ('forest_regression', RandomForestRegressor(n_estimators=100, random_state=42, min_samples_split=5))\n",
    "])\n",
    "\n",
    "pipeline_forest.fit(X_train, y_train)\n",
    "\n",
    "score = pipeline_forest.score(X_test, y_test)\n",
    "print(f\"Pipeline test score: {score}\")\n",
    "\n",
    "y_pred_dtr = pipeline_forest.predict(X_test)"
   ]
  },
  {
   "cell_type": "markdown",
   "metadata": {},
   "source": [
    "#### 1.3.1 Histogram-based Gradient Boosting Regression\n",
    "\n",
    "\n",
    "In the following section, *histogram-based gradient boosting regression* will be discussed. \n",
    "\n",
    "This machine learning model makes use of *gradient boosting* and the construction of histogram-based features.\n",
    "\n",
    "*Gradient boosting* is an ensemble method which makes use of regression trees. This is a boosting method, which works by building multiple, weaker, prediction models in sequence. Each time a model is constructed, it will (try to) predict the error that is left over by its model, and uses this information to build the next model. Gradient boosting makes use of combining predictions of multiple weak learners, usually decision trees.\n",
    "\n",
    "\n",
    "**How does Hist Gradient Boosting work?**\n",
    "This model is similar to gradient boosting, as it is an ensemble technique which uses boosting, but instead of using decision trees as weak learners, it makes use of histograms. Using histograms is computationally more efficient, making it faster compared to traditional gradient boosting, especially on larger datasets. Building a histogram has a notation of $O(nfeatures​×n)$, whereas gradient boosting is of $O(nfeatures​×nlog(n))$."
   ]
  },
  {
   "cell_type": "markdown",
   "metadata": {},
   "source": [
    "This provides the following advantages:\n",
    "- Faster training times.\n",
    "- It can handle larger datasets.\n",
    "- Data does not need to be normalized.\n",
    "- Histogram-based can handle non-linear interaction."
   ]
  },
  {
   "cell_type": "markdown",
   "metadata": {},
   "source": [
    "##### 1.3.3 Implementation\n",
    "See below for the implementation of histogram-based gradient boosting."
   ]
  },
  {
   "cell_type": "code",
   "execution_count": 15,
   "metadata": {},
   "outputs": [
    {
     "data": {
      "text/plain": [
       "((16035, 19), (16035,))"
      ]
     },
     "execution_count": 15,
     "metadata": {},
     "output_type": "execute_result"
    }
   ],
   "source": [
    "X_test.shape, y_test.shape"
   ]
  },
  {
   "cell_type": "code",
   "execution_count": 35,
   "metadata": {},
   "outputs": [],
   "source": [
    "# Pipeline does not perform any special actions in this case\n",
    "pipeline_hgb = Pipeline([\n",
    "    ('hgb', HistGradientBoostingRegressor(loss='poisson', max_bins=255, max_iter=300, max_depth=10, learning_rate=0.2, ))\n",
    "])\n",
    "\n",
    "pipeline_hgb.fit(X_train, y_train)\n",
    "\n",
    "y_pred_hgb = pipeline_hgb.predict(X_test)"
   ]
  },
  {
   "cell_type": "markdown",
   "metadata": {},
   "source": [
    "#### 1.4 Support Vector Regression (SVR)\n",
    "In the following section, SVR will be discussed and showcased.\n",
    "\n",
    "SVR is a type of learning model, found in the set of models from Support Vector Machines (SVM). SVM is a supervised model that can handle both unstructured data as well as nonlinear relationships in high dimensional spaces. This is made possible due to a nifty feature of this type of model: the *kernel trick* or also called *kernel method*.\n",
    "\n",
    "\n",
    "Svr works by mapping the 2D space, wherein the samples and target values live, to a higher dimension using the *kernel trick*. It will then\n",
    "map a hyperplane in this, now multidimensional, space where the data is present. The goal for the usage of this hyperplane is to find the space where the least amount of error is present between the predicted values and the actual values. This hyperplane will then be used for making new predictions on new data."
   ]
  },
  {
   "cell_type": "markdown",
   "metadata": {},
   "source": [
    "The kernel trick is the main property that gives svm the ability to use a higher-dimensional space. It works by mapping the datapoints into a higher-dimensional space, where the use of a *kernel function* computes the similarity between two points in the original space. There are several algorithms for performing this kernel function, like *linear kernel*, *polynomial kernel* and *radial basis function (RBF) kernel*. So, the kernel function will calculate similarity between datapoints in the original space, and will in turn calculate dot products, based on these similarities, in the higher dimensional space. The svr algorithm will then find a hyperplane between the dot products, where the error between predicted values and actual values are minimal. This hyperplane is then used for making predictions on new data."
   ]
  },
  {
   "cell_type": "code",
   "execution_count": 18,
   "metadata": {},
   "outputs": [],
   "source": [
    "# Another pipeline setup to standardize the data\n",
    "# before performing svr on the data\n",
    "# RBF kernel method is used.\n",
    "\n",
    "pipeline_svr = Pipeline([\n",
    "    ('scaler', StandardScaler()),\n",
    "    ('svr', SVR(kernel='rbf', C=1.0, epsilon=0.2))\n",
    "])\n",
    "\n",
    "pipeline_svr.fit(X_train, y_train)\n",
    "\n",
    "y_pred_svr = pipeline_svr.predict(X_test)"
   ]
  },
  {
   "cell_type": "markdown",
   "metadata": {},
   "source": [
    "#### 2.1 Metrics for Models\n",
    "\n",
    "In the following section, metrics for analyzing the performance of the used models will be explained and demonstrated.\n",
    "\n",
    "Since regression models are being used, the following general metrics will be used:\n",
    "- Mean absolute error (MAE) and mean absolute percentage error (MAPE).\n",
    "- Coefficient of determination ($R^2$).\n",
    "\n",
    "For random forest, feature importance will be used as a metric for evaluating the amount times a feature is used in each tree of the model."
   ]
  },
  {
   "cell_type": "markdown",
   "metadata": {},
   "source": [
    "##### 2.2 Mean Absolute (Percentage) Error\n",
    "\n",
    "\n",
    "With MAE, the magnitude of the average absolute error, or also called deviation, is determined.\n",
    "For MAPE, the same is achieved as with MAE, except it will return this as a precentage. Thus, this measure gives a percentage score of how predictions deviate from the actual values. \n",
    "\n",
    "Below, the MAE and MAPE for each of the models will be given, and will be interpreted."
   ]
  },
  {
   "cell_type": "code",
   "execution_count": 37,
   "metadata": {},
   "outputs": [
    {
     "name": "stdout",
     "output_type": "stream",
     "text": [
      "Random forest regression:\n",
      "\n",
      "Mean absolute error:  11.718033131994183 \n",
      "Mean absolute percentage error:  0.17351675614395565 \n",
      "\n",
      "Histogram-based gradient boosting:\n",
      "Mean absolute error:  12.175877989606153 \n",
      "Mean absolute percentage error:  0.1803830237454865 \n",
      "\n",
      "Support vector regression:\n",
      "Mean absolute error:  12.60602342048053 \n",
      "Mean absolute percentage error:  0.19033841213374497\n"
     ]
    }
   ],
   "source": [
    "mae_dtr = mean_absolute_error(y_test, y_pred_dtr)\n",
    "mape_dtr = mean_absolute_percentage_error(y_test, y_pred_dtr)\n",
    "\n",
    "mae_hgb = mean_absolute_error(y_test, y_pred_hgb)\n",
    "mape_hgb = mean_absolute_percentage_error(y_test, y_pred_hgb)\n",
    "\n",
    "mae_svr = mean_absolute_error(y_test, y_pred_svr)\n",
    "mape_svr = mean_absolute_percentage_error(y_test, y_pred_svr)\n",
    "\n",
    "print(\"Random forest regression:\\n\\nMean absolute error: \", mae_dtr, \"\\nMean absolute percentage error: \", mape_dtr,\n",
    "      \"\\n\\nHistogram-based gradient boosting:\\nMean absolute error: \", mae_hgb, \"\\nMean absolute percentage error: \", mape_hgb,\n",
    "      \"\\n\\nSupport vector regression:\\nMean absolute error: \", mae_svr, \"\\nMean absolute percentage error: \", mape_svr)"
   ]
  },
  {
   "cell_type": "markdown",
   "metadata": {},
   "source": [
    "Looking at our metrics, the following can be noted:\n",
    "\n",
    "\n",
    "For mean absolute error, which means the average distance that the model was off from making a correct prediction on an unseen dataset, is \n",
    "the lowest for random tree regression, where it was off by 11 points on average. It also has the lowest rate for mean absolute percentage error, where it was off by around 17,4% on average. Histogram-based gradient boosting and support vector regression had about the same results, but they both scored lower on these metrics. "
   ]
  },
  {
   "cell_type": "markdown",
   "metadata": {},
   "source": [
    "##### 2.3 Coefficient Determination\n",
    "Coefficient determination, or also called a $R^2$ score, is a measure that evaluates the goodness of a fit of a regression model. With this score, the proportion to which a regression model adapted to the underlying relations between predictor and target variables is expressed, with a number between 0 and 1. The lower the score, the less a model was able to explain the variation in the dependent variable from its independent variables and vice versa. So, a low score that is closer to 0 explains that the model is a poor fit to the data and that the independent variables do not explain much of the variation to the dependent variable. For a higher score closer to 1, the model will seem like a good fit to the data, and that the independent variables explain most of the variation in the dependent variable. This method works best when variables have linear relationships.\n",
    "\n",
    "$R^2$ score should not be used as the only metric for a model, since it does not explicitly score the predictive power of a trained model, but it should be used as a metric in combination with other metrics, such as mean absolute error for example."
   ]
  },
  {
   "cell_type": "code",
   "execution_count": 32,
   "metadata": {},
   "outputs": [
    {
     "name": "stdout",
     "output_type": "stream",
     "text": [
      " . . R2 scores . . \n",
      "\n",
      "R^2 for random forest:  0.28729673106258613 \n",
      "R^2 for histogram-based gradient boost:  0.22437971684893832 \n",
      "R^2 for support vector regression:  0.11078191543273053\n"
     ]
    }
   ],
   "source": [
    "r2_dtr = r2_score(y_test, y_pred_dtr)\n",
    "r2_hgb = r2_score(y_test, y_pred_hgb)\n",
    "r2_svr = r2_score(y_test, y_pred_svr)\n",
    "\n",
    "print(\" . . R2 scores . . \\n\\nR^2 for random forest: \", r2_dtr,\n",
    "      \"\\nR^2 for histogram-based gradient boost: \", r2_hgb,\n",
    "      \"\\nR^2 for support vector regression: \", r2_svr)"
   ]
  },
  {
   "cell_type": "markdown",
   "metadata": {},
   "source": [
    "As seen above, random forest was able to capture most of the underlying relationships between dependent and independent variables, compared to random forest and svr. It was able to explain around 28,7% of the variation in the predicted ranking of a cyclist, that was explained by the characteristics of the given cyclists. Histogram-based gradient boosting comes in second and svr comes in last.\n",
    "\n",
    "Given the $R^2$ scores, it can be concluded that the supervised learning models have a rather poor fit, since a score of 0.5 and up would indicate better predictive power. This could be due to a number reasons, such as overfitting due to the preprocessing stage or the fact that relationships are non-linear."
   ]
  },
  {
   "cell_type": "markdown",
   "metadata": {},
   "source": [
    "##### 2.4 Feature Importance\n",
    "Below are the features that random forest deemed as the most significant/the strongest predictor values that have the most influence on the target value."
   ]
  },
  {
   "cell_type": "code",
   "execution_count": 21,
   "metadata": {},
   "outputs": [],
   "source": [
    "importances = forest.feature_importances_"
   ]
  },
  {
   "cell_type": "code",
   "execution_count": 22,
   "metadata": {},
   "outputs": [
    {
     "data": {
      "image/png": "[encoded data removed]",
      "text/plain": [
       "<Figure size 640x480 with 1 Axes>"
      ]
     },
     "metadata": {},
     "output_type": "display_data"
    }
   ],
   "source": [
    "indices = np.argsort(importances)\n",
    "\n",
    "fig, ax = plt.subplots()\n",
    "ax.barh(range(len(importances)), importances[indices])\n",
    "ax.set_yticks(range(len(importances)))\n",
    "_ = ax.set_yticklabels(np.array(X_train.columns)[indices])"
   ]
  },
  {
   "cell_type": "markdown",
   "metadata": {},
   "source": [
    "From this, it can be concluded that 'GC' was deemed as the most important value for making decisions. This could be due to the fact that it is actually a good predictor value, or it could be a result of imputating by the mean during preprocessing."
   ]
  },
  {
   "cell_type": "markdown",
   "metadata": {},
   "source": [
    "#### 3.1.1 Cross-validation\n",
    "\n",
    "Cross validation (cv) is the act of splitting the dataset, that will be used for the training of a machine learning model.\n",
    "In this section, the results of research about the preparation of data for cross-validation will be discussed.\n",
    "\n",
    "Lets start off by evaluating the meaning of cross validation.\n",
    "\n",
    "When an entire dataset is both used for training and testing the model, it will be very accurate, since the model will use the memorized labels during training for testing its own performance. This is also called *overfitting*, where the model memorized the data instead of learning from it. Thus, it is good practice to hold out a part of the dataset for testing, since the model has never used this partition of the dataset for training purposes. Cv takes this a step further, by splitting the dataset into a training and a testing partition. With this, multiple instances of a model will be trained, where each model will have the test partition shifted around. By iterating over different splits during each sequentially trained model, a more accurate claim can be made for the performance of the trained model. See below for a visual representation.\n",
    "\n",
    "\n",
    "![alt text](image.png)\n",
    "\n",
    "\n",
    "[Scikit-learn](http://example.com)\n",
    "\n",
    "\n",
    "With this, the basics of *k-fold cross-validation* (k-cv), and thus cv itself, have been outlined, where the training set is split into *k* smaller sets, called \"k folds\".\n"
   ]
  },
  {
   "cell_type": "markdown",
   "metadata": {},
   "source": [
    "##### 3.1.2 Cross Validation for Hyperparameters\n",
    "\n",
    "However, the data used for training is not the only reason the prediction power of a model can be influenced. ML models are tuned based on *hyperparameters* to control their behaviour. For instance, the prediction power for a random forest model can rely on the maximum depth of the tree, the minimum number of samples require to allow a split and more. To dive deeper into researching what hyperparameters work best for a given model, cross validation can be used to have a certain model train over the dataset, while iterating through the definitions for hyperparameters. The results from cross validation can be interpreted to make a claim over which hyperparameters work best for a given model.\n",
    "\n",
    "So in short, it can be stated that the hyperparameter space can be iteratively searched over for the best cross validation score. But how are hyperparameters evaluated? Two methods will be discussed below.\n",
    "\n",
    "1. **Exhaustive grid search**\n",
    "\n",
    "With a grid search, the hyperparameters are specified from a grid of parameter values. The values that will be evaluated are predefined in a grid, where in each following evaluation, the next hyperparameter value is evaluated. By doing this, all the possible combinations of predefined hyperparameters are evaluated, which will result in the best combination of parameters that are defined in the grid. This method is one of the more widely used methods for validating the most optimal hyperparameters for a machine learning model.\n",
    "\n",
    "\n",
    "2. **Randomized parameter optimization**\n",
    "\n",
    "Randomized parameter optimization takes a different approach to finding the ideal hyperparameters. This method implements a randomized search over the parameters for a model, where each setting is sampled over a range of possible parameters. The main goal of this cv method is to find the best model parameters by training and evaluating the model, see the next chapter for an implementation of randomized search cross validation."
   ]
  },
  {
   "cell_type": "markdown",
   "metadata": {},
   "source": [
    "#### 4.1.1 Ideal Hyperparameters\n",
    "\n",
    "Below is an implementation of *randomized parameter optimization*, or also call *randomized search cross validation*. This will be done for each of the used models: random forest, histogram-based gradient boosting and support vector regression."
   ]
  },
  {
   "cell_type": "code",
   "execution_count": 23,
   "metadata": {},
   "outputs": [
    {
     "name": "stdout",
     "output_type": "stream",
     "text": [
      "Best Hyperparameters: {'n_estimators': 100, 'min_samples_split': 10, 'max_depth': None}\n",
      "Best Score: 0.18289787577056232\n"
     ]
    }
   ],
   "source": [
    "\"\"\"\n",
    "Random Forest\n",
    "\"\"\"\n",
    "\n",
    "# Define hyperparameter grid for RandomForest Classifier\n",
    "param_grid = { 'n_estimators': [50, 100, 200],\n",
    "              'max_depth': [None, 5, 10],\n",
    "              'min_samples_split': [2, 5, 10] }\n",
    "\n",
    "rf_classifier = RandomForestRegressor()\n",
    "\n",
    "random_search = RandomizedSearchCV(estimator=rf_classifier,\n",
    "                                   param_distributions=param_grid,\n",
    "                                   cv=5,\n",
    "                                   n_iter=10)\n",
    "\n",
    "random_search.fit(X_test, y_test)\n",
    "\n",
    "print(\"Best Hyperparameters:\", random_search.best_params_)\n",
    "print(\"Best Score:\", random_search.best_score_)"
   ]
  },
  {
   "cell_type": "code",
   "execution_count": 24,
   "metadata": {},
   "outputs": [
    {
     "name": "stdout",
     "output_type": "stream",
     "text": [
      "HGB Best Hyperparameters: {'max_iter': 300, 'max_depth': None, 'learning_rate': 0.2, 'l2_regularization': 1.0}\n",
      "HGB Best Score: 0.27361037590434323\n"
     ]
    }
   ],
   "source": [
    "\"\"\"\n",
    "Histogram-based Gradient Boosting\n",
    "\"\"\"\n",
    "param_grid_hgb = {\n",
    "    'learning_rate': [0.01, 0.1, 0.2],\n",
    "    'max_iter': [100, 200, 300],\n",
    "    'max_depth': [None, 5, 10],\n",
    "    'l2_regularization': [0, 0.1, 1.0]\n",
    "}\n",
    "\n",
    "hgb = HistGradientBoostingRegressor()\n",
    "\n",
    "random_search_hgb = RandomizedSearchCV(estimator=hgb,\n",
    "                                       param_distributions=param_grid_hgb,\n",
    "                                       cv=5,\n",
    "                                       n_iter=10)\n",
    "\n",
    "random_search_hgb.fit(X_train, y_train)\n",
    "\n",
    "print(\"HGB Best Hyperparameters:\", random_search_hgb.best_params_)\n",
    "print(\"HGB Best Score:\", random_search_hgb.best_score_)"
   ]
  },
  {
   "cell_type": "code",
   "execution_count": 25,
   "metadata": {},
   "outputs": [
    {
     "data": {
      "text/plain": [
       "'\\nSupport Vector Regression\\n\\nparam_grid_svr = {\\n    \\'C\\': [0.1, 1.0, 10],\\n    \\'epsilon\\': [0.1, 0.2, 0.5],\\n    \\'kernel\\': [\\'linear\\', \\'poly\\', \\'rbf\\']\\n}\\n\\nsvr = SVR()\\n\\nrandom_search_svr = RandomizedSearchCV(estimator=svr,\\n                                       param_distributions=param_grid_svr,\\n                                       cv=5,\\n                                       n_iter=10)\\n\\nrandom_search_svr.fit(X_train, y_train)\\n\\nprint(\"SVR Best Hyperparameters:\", random_search_svr.best_params_)\\nprint(\"SVR Best Score:\", random_search_svr.best_score_) '"
      ]
     },
     "execution_count": 25,
     "metadata": {},
     "output_type": "execute_result"
    }
   ],
   "source": [
    "\"\"\"\n",
    "Support Vector Regression\n",
    "\"\"\"\n",
    "\n",
    "param_grid_svr = {\n",
    "    'C': [0.1, 1.0, 10],\n",
    "    'epsilon': [0.1, 0.2, 0.5],\n",
    "    'kernel': ['linear', 'poly', 'rbf']\n",
    "}\n",
    "\n",
    "svr = SVR()\n",
    "\n",
    "random_search_svr = RandomizedSearchCV(estimator=svr,\n",
    "                                       param_distributions=param_grid_svr,\n",
    "                                       cv=5,\n",
    "                                       n_iter=10)\n",
    "\n",
    "random_search_svr.fit(X_train, y_train)\n",
    "\n",
    "print(\"SVR Best Hyperparameters:\", random_search_svr.best_params_)\n",
    "print(\"SVR Best Score:\", random_search_svr.best_score_)"
   ]
  },
  {
   "cell_type": "markdown",
   "metadata": {},
   "source": [
    "##### 4.1.2 Interpretation\n",
    "For the random forest regression model, the optimal hyperparameters are as follows:\n",
    "- <code>n_estimators</code>: this indicates the number of trees present in the \"forest\". The optimal number is 100.\n",
    "- <code>min_samples_split</code>: this is the number of samples required to split a node. The optimal number is 5.\n",
    "- <code>max_depth</code>: this is the amount of depth a tree has, so it controls the depth of the tree. The optimal number is 'none' for no max depth.\n",
    "\n",
    "\n",
    "For the histogram-based gradient boost regression model, the optimal hyperparameters are as follows:\n",
    "- <code>max_iter</code>: this is the maximum amount of iterations during the training process. The optimal number is 300.\n",
    "- <code>max_depth</code>: this is the amount of depth a tree has, so it controls the depth of the tree. The optimal number is 10.\n",
    "- <code>learning_rate</code>: this represents the speed at which the model learns. The optimal number is 0.2\n",
    "- <code>l2_regularization</code>: this number represents the extent to which a measure is taken to prevent overfitting, in short. The optimal number was 0 for no L2 regularization.\n",
    "\n",
    "\n",
    "For SVR, it was not possible to perform random search cross validation, due to computational overhead. The hyperparameters will be explained in short, but no conclusion can be given on the perfect value.\n",
    "- <code>C</code>: this parameter sets the strength of regularization. Regularization is a technique of helping to mitigate overfitting.\n",
    "- <code>epsilon</code>: this is associated to how random an action is taken. To put it simply, it trains the model with the aim to be around the same values as predictors, but not to be the exact value of these predictors.\n",
    "- <code>Kernel</code>: this specifies the type of kernel method that is used in the algorithm."
   ]
  },
  {
   "cell_type": "markdown",
   "metadata": {},
   "source": [
    "The best score indicates the average of $R^2$ scores over the left-out test fold for model using the most optimal parameters.\n",
    "For the random forest model, the score was around 0,177. For histogram-based gradient boosting model, the score is around 0,277."
   ]
  },
  {
   "cell_type": "markdown",
   "metadata": {},
   "source": [
    "#### 5.1 Conclusions\n",
    "To make a conclusion from the research that was performed, the data from the interpretation of the optimal hyperparameters will be used. Since the $R^2$ score is the highest for the histogram-based gradient boosting model, meaning that this model captures the underlying patterns in the dataset best. When this is the case, the model is able to more accurately identify relationships between the features and a target. With this, the model is able to make a better prediction of the target value.\n",
    "\n",
    "With an $R^2$ value of around 0,277, it would mean that the model learned some of those underlying patterns, but it is still missing out on most of those important relationships. This could be due to a couple of reasons: an incomplete amount of features, where the key inputs for the target value are missing; there was too much noise present in the dataset, meaning that the preprocessing needs improvement; the model might just be too complex, to the point where the model could be overfitting.\n",
    "\n",
    "The $R^2$ score is not the only metric that should be used for making a conclusion on the performance of a model, since it does not explicitly outline its overall predictive power. For instance, with the ideal hyperparameters found from random search cv, the mean absolute error is lowest for random forest, with a value of around 11. This means that random forest is, on average, off by around 11 ranking points when validating on new data. Compared to histogram-based gradient boosting, which sits around 12 for MAE, using random forest would be more accurate overall.\n",
    "\n",
    "Taking this into account, the conclusion can be made that a histogram-based gradient boosting regressor would be a model that captures underlying patters better than random forest or svr could, with a slight compromise in overall accuracy. Given this result, histogram-based gradient boosting would be the best solution to training a supervised machine learning model that can help predict the ranking of a given cyclist in their next match, given that the dataset has been properly sanitized and that the important predictor values have been identified. "
   ]
  },
  {
   "cell_type": "markdown",
   "metadata": {},
   "source": [
    "#### Bibliography:\n",
    "Chicco, D., Warrens, M. J., & Jurman, G. (2021). The Coefficient of Determination R-squared Is More Informative than SMAPE, MAE, MAPE, MSE and RMSE in Regression Analysis Evaluation. *PeerJ Computer Science, 7(5)*, e623. ncbi. https://doi.org/10.7717/peerj-cs.623\n",
    "\n",
    "\n",
    "*Cross-validation: Evaluating Estimator Performance*. (2009). Scikit-Learn.org. https://scikit-learn.org/stable/modules/cross_validation.html\n",
    "\n",
    "\n",
    "‌*Ensembles: Gradient boosting, random forests, bagging, voting, stacking*. (2022). Scikit-Learn. \n",
    "    https://scikit-learn.org/stable/modules/ensemble.html#gradientboostingclassifier-and-gradientboostingregressor\n",
    "\n",
    "\n",
    "*HistGradientBoostingRegressor*. (n.d.). Scikit-Learn. https://scikit-learn.org/stable/modules/generated/sklearn.ensemble.HistGradientBoostingRegressor.html\n",
    "\n",
    "*Interpreting sklearns’ GridSearchCV best score*. (2018). Stack Overflow. https://stackoverflow.com/questions/50232599/interpreting-sklearns-gridsearchcv-best-score\n",
    "\n",
    "\n",
    "*Support Vector Regression (SVR)*. (2024). Medium. https://farshadabdulazeez.medium.com/support-vector-regression-svr-8cb1966ff5a0\n",
    "\n",
    "\n",
    "*Support Vector Regression - Coastal Wiki.* (2024). Coastalwiki.org. https://www.coastalwiki.org/wiki/Support_Vector_Regression\n",
    "\n",
    "‌\n",
    "*The Kernel Trick in Support Vector Machine (SVM).* (2022, May 9).  YouTube. https://youtu.be/Q7vT0--5VII?si=UPm5UYwL1Dtsgkhw"
   ]
  }
 ],
 "metadata": {
  "kernelspec": {
   "display_name": ".venv",
   "language": "python",
   "name": "python3"
  },
  "language_info": {
   "codemirror_mode": {
    "name": "ipython",
    "version": 3
   },
   "file_extension": ".py",
   "mimetype": "text/x-python",
   "name": "python",
   "nbconvert_exporter": "python",
   "pygments_lexer": "ipython3",
   "version": "3.13.1"
  }
 },
 "nbformat": 4,
 "nbformat_minor": 2
}
