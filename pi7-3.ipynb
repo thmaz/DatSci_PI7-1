{
 "cells": [
  {
   "cell_type": "code",
   "execution_count": 1,
   "metadata": {},
   "outputs": [],
   "source": [
    "# Imports\n",
    "import sqlite3 as lite\n",
    "import pandas as pd\n",
    "import re\n",
    "import numpy as np\n",
    "import ast\n",
    "import matplotlib.pyplot as plt\n",
    "from sklearn.impute import SimpleImputer\n",
    "from sklearn.model_selection import train_test_split\n",
    "from sklearn.ensemble import RandomForestRegressor, HistGradientBoostingRegressor, ExtraTreesClassifier\n",
    "from sklearn.feature_selection import SelectFromModel \n",
    "from sklearn.svm import SVR, LinearSVC\n",
    "from sklearn.metrics import mean_absolute_error, mean_absolute_percentage_error, r2_score\n",
    "from sklearn.pipeline import Pipeline\n",
    "from sklearn.preprocessing import StandardScaler"
   ]
  },
  {
   "cell_type": "code",
   "execution_count": 2,
   "metadata": {},
   "outputs": [
    {
     "name": "stdout",
     "output_type": "stream",
     "text": [
      "Amount of rows in races_df:  225918\n",
      "Amount of rows in riders_df:  1042\n",
      "Unique values for 'months':  [ 1  3  4  5  6  7  8  9 10] \n",
      "\n",
      "Unique values for 'years':  [2012 2014 2015 2017 2018 2020 2021]\n",
      "  Timelag  Timelag_seconds\n",
      "0   +0:00              NaN\n",
      "1   +0:04              4.0\n",
      "2   +0:06              6.0\n",
      "3   +0:10             10.0\n",
      "4   +0:10             10.0\n",
      "5   +0:10             10.0\n",
      "6   +0:10             10.0\n",
      "7   +0:10             10.0\n",
      "8   +0:10             10.0\n",
      "9   +0:10             10.0\n"
     ]
    }
   ],
   "source": [
    "conn = lite.connect('cycling_big.db')\n",
    "\n",
    "riders_df = pd.read_sql_query('SELECT * FROM riders;', conn)\n",
    "races_df = pd.read_sql_query('SELECT * FROM race_results', conn)\n",
    "\n",
    "print(\"Amount of rows in races_df: \", races_df[races_df.columns[0]].count())\n",
    "print(\"Amount of rows in riders_df: \", riders_df[riders_df.columns[0]].count())\n",
    "\n",
    "conn.close()\n",
    "\n",
    "\"\"\"\n",
    "Convert the 'Date' column to DateTime format\n",
    "Regarding races_df dataframe!\n",
    "\"\"\"\n",
    "\n",
    "races_df['Date'] = pd.to_datetime(races_df['Date'], errors='coerce', format='%d %B %Y')\n",
    "\n",
    "# Remove rows where 'Date' is NaT\n",
    "races_df = races_df.dropna(subset=['Date'])\n",
    "\n",
    "# Normalize 'Date' to strip out time if it's present (this keeps just the date part)\n",
    "races_df['Date'] = races_df['Date'].dt.normalize()\n",
    "\n",
    "# Extract the month and year from the column and put them in their own columns\n",
    "races_df['Month'] = races_df['Date'].dt.month\n",
    "races_df['Year'] = races_df['Date'].dt.year\n",
    "\n",
    "print(\"Unique values for 'months': \", races_df['Month'].unique(), \"\\n\")\n",
    "print(\"Unique values for 'years': \",races_df['Year'].unique())\n",
    "\n",
    "\"\"\"\n",
    "Converting the timetable to total seconds\n",
    "\"\"\"\n",
    "\n",
    "def time_to_seconds(time_str):\n",
    "    # Remove commas and any spaces\n",
    "    time_str = time_str.replace(',', '').strip()\n",
    "\n",
    "    # Check the consistency of the time format using regular expressions\n",
    "    match = re.match(r'(\\d{1,2}):(\\d{2}):(\\d{2})', time_str)\n",
    "    if match:\n",
    "        hours, minutes, seconds = map(int, match.groups())\n",
    "        total_seconds = hours * 3600 + minutes * 60 + seconds\n",
    "        if total_seconds == 0:\n",
    "            return np.nan\n",
    "        return total_seconds\n",
    "\n",
    "    # Do the same as the loop above, but now for MM:SS format.\n",
    "    match = re.match(r'(\\d{1,2}):(\\d{2})', time_str)\n",
    "    if match:\n",
    "        minutes, seconds = map(int, match.groups())\n",
    "        total_seconds = minutes * 60 + seconds\n",
    "        if total_seconds == 0:\n",
    "            return np.nan  \n",
    "        return total_seconds\n",
    "\n",
    "    # Do the same but for 0:00, 0:01, etc.\n",
    "    match = re.match(r'(\\d{1,2}):(\\d{1,2})', time_str)\n",
    "    if match:\n",
    "        minutes, seconds = map(int, match.groups())\n",
    "        total_seconds = minutes * 60 + seconds\n",
    "        if total_seconds == 0:\n",
    "            return np.nan \n",
    "        return total_seconds\n",
    "    \n",
    "    # If format doesn't match, return NaN\n",
    "    return np.nan\n",
    "\n",
    "# Apply the conversion function to the 'Time' column\n",
    "races_df['Time_seconds'] = races_df['Time'].apply(time_to_seconds)\n",
    "\n",
    "# print(races_df[['Time', 'Time_seconds']].head(10))\n",
    "# races_df.info()\n",
    "\n",
    "\"\"\"\n",
    "Converting timelag to total seconds\n",
    "\"\"\"\n",
    "\n",
    "def timelag_to_seconds(timelag_str):\n",
    "    # Check if the timelag_str contains missing values\n",
    "    if pd.isna(timelag_str):\n",
    "        return np.nan\n",
    "\n",
    "    timelag_str = timelag_str.lstrip('+').strip()\n",
    "\n",
    "    match = re.match(r'(\\d{1,2}):(\\d{2}):(\\d{2})', timelag_str)\n",
    "    if match:\n",
    "        hours, minutes, seconds = map(int, match.groups())\n",
    "        return hours * 3600 + minutes * 60 + seconds\n",
    "\n",
    "    match = re.match(r'(\\d{1,2}):(\\d{2})', timelag_str)\n",
    "    if match:\n",
    "        minutes, seconds = map(int, match.groups())\n",
    "        return minutes * 60 + seconds\n",
    "    \n",
    "    match = re.match(r'(\\d+):(\\d+)', timelag_str)\n",
    "    if match:\n",
    "        minutes, seconds = map(int, match.groups())\n",
    "        return minutes * 60 + seconds\n",
    "\n",
    "    return np.nan\n",
    "\n",
    "races_df['Timelag_seconds'] = races_df['Timelag'].apply(timelag_to_seconds)\n",
    "\n",
    "races_df['Timelag_seconds'] = races_df['Timelag_seconds'].replace(0.0, np.nan)\n",
    "\n",
    "print(races_df[['Timelag', 'Timelag_seconds']].head(10))\n",
    "\n",
    "\"\"\"\n",
    "Converting distance into single numerical value\n",
    "This means stripping 'km' from string and converting the remaining values into float64\n",
    "\"\"\"\n",
    "\n",
    "races_df['Length'] = races_df['Length'].str.replace(' km', '', regex=False)\n",
    "\n",
    "# Convert to numeric and replace 0 with NaN\n",
    "races_df['Length'] = pd.to_numeric(races_df['Length'], errors='coerce')  # Convert to numeric and handle errors\n",
    "\n",
    "# Replace 0 values with NaN\n",
    "races_df['Length'] = races_df['Length'].replace(0.0, np.nan)\n",
    "\n",
    "# print(races_df['Length'])\n",
    "\n",
    "\"\"\"\n",
    "Splitting values from 'rdr' and putting the split values into separate columns\n",
    "\"\"\"\n",
    "\n",
    "# Function to convert the 'rdr' string to separate ranking columns\n",
    "def extract_rankings(rdr_str):\n",
    "    try:\n",
    "        # Converting str to dict\n",
    "        rankings = ast.literal_eval(rdr_str)\n",
    "        \n",
    "        # Extracting ranks, while also handling missing keys\n",
    "        pcs_rnk = rankings.get('PCS Ranking', np.nan)\n",
    "        uci_rnk = rankings.get('UCI World Ranking', np.nan)\n",
    "        alltime_rnk = rankings.get('Specials | All Time Ranking', np.nan)\n",
    "        \n",
    "        return pd.Series([pcs_rnk, uci_rnk, alltime_rnk])\n",
    "    except:\n",
    "        return pd.Series([np.nan, np.nan, np.nan])\n",
    "\n",
    "# Apply the function to the 'rdr' column\n",
    "riders_df[['PCS_Rnk', 'UCI_Rnk', 'AllTime_Rnk']] = riders_df['rdr'].apply(extract_rankings)\n",
    "\n",
    "# Entries should be turned into numeric values, where errors get turned into NaN\n",
    "riders_df['PCS_Rnk'] = pd.to_numeric(riders_df['PCS_Rnk'], errors='coerce')\n",
    "riders_df['UCI_Rnk'] = pd.to_numeric(riders_df['UCI_Rnk'], errors='coerce')\n",
    "riders_df['AllTime_Rnk'] = pd.to_numeric(riders_df['AllTime_Rnk'], errors='coerce')\n",
    "\n",
    "# print(riders_df[['fullname', 'PCS_Rnk', 'UCI_Rnk', 'AllTime_Rnk']])\n",
    "\n",
    "\"\"\"\n",
    "Convert stage types to binary with label encoding\n",
    "\"\"\"\n",
    "\n",
    "races_df['Stage_Type_bin'] = races_df['Stage_Type'].map({'RR': 0, 'ITT': 1})\n",
    "\n",
    "\"\"\"\n",
    "Splitting values from 'pps' and putting those values into separate columns.\n",
    "\"\"\"\n",
    "\n",
    "def extract_points(pps_str):\n",
    "    try:\n",
    "        points = ast.literal_eval(pps_str)\n",
    "        \n",
    "        day_pnt = np.nan if points.get('One day races', '0') == '0' else points.get('One day races', np.nan)\n",
    "        gc_pnt = np.nan if points.get('GC', '0') == '0' else points.get('GC', np.nan)\n",
    "        tt_pnt = np.nan if points.get('Time trial', '0') == '0' else points.get('Time trial', np.nan)\n",
    "        sprint_pnt = np.nan if points.get('Sprint', '0') == '0' else points.get('Sprint', np.nan)\n",
    "        climb_pnt = np.nan if points.get('Climber', '0') == '0' else points.get('Climber', np.nan)\n",
    "        \n",
    "        return pd.Series([day_pnt, gc_pnt, tt_pnt, sprint_pnt, climb_pnt])\n",
    "    except:\n",
    "        return pd.Series([np.nan, np.nan, np.nan, np.nan, np.nan])\n",
    "\n",
    "riders_df[['Day_Pnt', 'GC_Pnt', 'TT_Pnt', 'Sprint_Pnt', 'Climb_Pnt']] = riders_df['pps'].apply(extract_points)\n",
    "\n",
    "riders_df['Day_Pnt'] = pd.to_numeric(riders_df['Day_Pnt'], errors='coerce')\n",
    "riders_df['GC_Pnt'] = pd.to_numeric(riders_df['GC_Pnt'], errors='coerce')\n",
    "riders_df['TT_Pnt'] = pd.to_numeric(riders_df['TT_Pnt'], errors='coerce')\n",
    "riders_df['Sprint_Pnt'] = pd.to_numeric(riders_df['Sprint_Pnt'], errors='coerce')\n",
    "riders_df['Climb_Pnt'] = pd.to_numeric(riders_df['Climb_Pnt'], errors='coerce')\n"
   ]
  },
  {
   "cell_type": "code",
   "execution_count": 3,
   "metadata": {},
   "outputs": [
    {
     "name": "stdout",
     "output_type": "stream",
     "text": [
      "0          BARDET Romain\n",
      "1        DUMOULIN Samuel\n",
      "2          GALLOPIN Tony\n",
      "3          NAESEN Oliver\n",
      "4          FRANK Mathias\n",
      "              ...       \n",
      "1037      TRONDSEN Trond\n",
      "1038    VAN MELSEN Kévin\n",
      "1039     BEULLENS Cédric\n",
      "1040    DE WINTER Ludwig\n",
      "1041      DELACROIX Théo\n",
      "Name: fullname, Length: 1042, dtype: object\n"
     ]
    }
   ],
   "source": [
    "print(riders_df['fullname'])"
   ]
  },
  {
   "cell_type": "code",
   "execution_count": 4,
   "metadata": {},
   "outputs": [
    {
     "name": "stdout",
     "output_type": "stream",
     "text": [
      "0          BARDET_Romain\n",
      "1        DUMOULIN_Samuel\n",
      "2          GALLOPIN_Tony\n",
      "3          NAESEN_Oliver\n",
      "4          FRANK_Mathias\n",
      "              ...       \n",
      "1037      TRONDSEN_Trond\n",
      "1038    VAN_MELSEN_Kévin\n",
      "1039     BEULLENS_Cédric\n",
      "1040    DE_WINTER_Ludwig\n",
      "1041      DELACROIX_Théo\n",
      "Name: fullname, Length: 1042, dtype: object\n"
     ]
    }
   ],
   "source": [
    "riders_df['fullname'] = riders_df['fullname'].str.replace(' ', '_') \n",
    "print(riders_df['fullname'])"
   ]
  },
  {
   "cell_type": "code",
   "execution_count": 5,
   "metadata": {},
   "outputs": [
    {
     "name": "stdout",
     "output_type": "stream",
     "text": [
      "Amount of rows in races_df post cleanup:  80174\n",
      "Amount of rows in riders_df post cleanup:  1042\n",
      "Amount of rows in df:  80174\n",
      "Rnk                    0\n",
      "GC                 10059\n",
      "BiB                    0\n",
      "Rider                  0\n",
      "Age                    0\n",
      "UCI                77527\n",
      "Pnt                69767\n",
      "Length              6495\n",
      "Month                  0\n",
      "Year                   0\n",
      "Time_seconds       18435\n",
      "Timelag_seconds    11212\n",
      "Stage_Type_bin     72484\n",
      "fullname           34208\n",
      "team               34208\n",
      "country            34208\n",
      "height             34260\n",
      "weight             34266\n",
      "PCS_Rnk            45842\n",
      "UCI_Rnk            46804\n",
      "AllTime_Rnk        53300\n",
      "Day_Pnt            34216\n",
      "GC_Pnt             34208\n",
      "TT_Pnt             34631\n",
      "Sprint_Pnt         34342\n",
      "Climb_Pnt          34365\n",
      "dtype: int64\n",
      "Amount of rows in df after cleanup:  80174\n",
      "\n",
      "done\n"
     ]
    }
   ],
   "source": [
    "\"\"\"\n",
    "Join the rider and race tables together, using the rider_id as an index\n",
    "\"\"\"\n",
    "print(\"Amount of rows in races_df post cleanup: \", races_df[races_df.columns[0]].count())\n",
    "print(\"Amount of rows in riders_df post cleanup: \", riders_df[riders_df.columns[0]].count())\n",
    "\n",
    "df = races_df.set_index('rider_id').join(riders_df.set_index('rider_id'), how = 'left')\n",
    "\n",
    "print(\"Amount of rows in df: \", df[df.columns[0]].count())\n",
    "\n",
    "\"\"\"\n",
    "Dropping columns that are not needed for analysis\n",
    "\"\"\"\n",
    "\n",
    "# Note: fix the long list\n",
    "df.drop(['Time', 'Timelag', 'rdr', 'pps', 'birthdate', 'rider_url', 'Race_url', 'Stage_url', 'Circuit', 'Race_Name', 'Stage_Name', 'Start', 'Finish', 'Category', 'Stage_Type'], axis=1, inplace=True)\n",
    "\n",
    "# Additional drops:\n",
    "df = df.drop(columns=['id', 'Team', 'Date', 'Race_ID', 'Stage_Number', 'Team'])\n",
    "# Replace all remaining zero values with NaN\n",
    "df = df.replace(0, np.nan)\n",
    "\n",
    "print(df.isna().sum())\n",
    "print(\"Amount of rows in df after cleanup: \", df[df.columns[0]].count())\n",
    "print(\"\\ndone\")"
   ]
  },
  {
   "cell_type": "markdown",
   "metadata": {},
   "source": [
    "### PI 7: Part 3\n"
   ]
  },
  {
   "cell_type": "markdown",
   "metadata": {},
   "source": [
    "#### 1.1 Appropriate Machine Learning Models\n",
    "In this section, the selection of appropriate machine learning models in the context of the current dataset will be discussed."
   ]
  },
  {
   "cell_type": "markdown",
   "metadata": {},
   "source": [
    "#### 1.2.1 Categorical and Regression Trees\n",
    "For the first model, the use of Categorical and Regression Trees will be discussed. As stated in *part 2* of the assignment, CART is a decision tree, that classifies records based on the conditions in the *decision nodes*, where the final classification, or regression, is determined in the *leaf nodes*. See the code from <code>pi7-2.ipynb</code> for a more in-depth explanation of decision trees."
   ]
  },
  {
   "cell_type": "markdown",
   "metadata": {},
   "source": [
    "#### 1.2.2 Argumentation\n",
    "A regression tree will be implemented due to the following reasons:\n",
    "- Handling possible non-linear relationships.\n",
    "- It does not require any normalization/standardization, making outcomes more interpretable.\n",
    "- It can handle outliers and missing values well.\n",
    "\n",
    "Arguments against implementing regression trees:\n",
    "- The more complex a tree becomes, the more prone it becomes to overfitting. There are methods for handling scenarios where overfitting can become an issue, like *pruning*.\n",
    "- Sensitive to hyperparameters.\n",
    "- Unsuitable for datasets with a large number of classes (see the arguments above)."
   ]
  },
  {
   "cell_type": "markdown",
   "metadata": {},
   "source": [
    "#### 1.2.3 Implementation\n",
    "Below is an implementation of a regression tree on the current dataset."
   ]
  },
  {
   "cell_type": "code",
   "execution_count": 6,
   "metadata": {},
   "outputs": [
    {
     "data": {
      "text/plain": [
       "Rnk                    0\n",
       "GC                 10059\n",
       "BiB                    0\n",
       "Rider                  0\n",
       "Age                    0\n",
       "UCI                77527\n",
       "Pnt                69767\n",
       "Length              6495\n",
       "Month                  0\n",
       "Year                   0\n",
       "Time_seconds       18435\n",
       "Timelag_seconds    11212\n",
       "Stage_Type_bin     72484\n",
       "fullname           34208\n",
       "team               34208\n",
       "country            34208\n",
       "height             34260\n",
       "weight             34266\n",
       "PCS_Rnk            45842\n",
       "UCI_Rnk            46804\n",
       "AllTime_Rnk        53300\n",
       "Day_Pnt            34216\n",
       "GC_Pnt             34208\n",
       "TT_Pnt             34631\n",
       "Sprint_Pnt         34342\n",
       "Climb_Pnt          34365\n",
       "dtype: int64"
      ]
     },
     "execution_count": 6,
     "metadata": {},
     "output_type": "execute_result"
    }
   ],
   "source": [
    "df.isnull().sum()"
   ]
  },
  {
   "cell_type": "markdown",
   "metadata": {},
   "source": [
    "'Rnk' or final rank will be used as our predictor variable. This column still contains alot of numerical values for 'DNF', meaning this will need to get cleaned up. Removing non-numericals, like DNF, DNS and OTL, does not impact the amount of available data by a large amount, so we will result in dropping these entries. Since these entries will most likely not contain any useful information (since the rider never finished or fouled), these entries will be dropped."
   ]
  },
  {
   "cell_type": "code",
   "execution_count": 7,
   "metadata": {},
   "outputs": [
    {
     "data": {
      "text/plain": [
       "np.int64(0)"
      ]
     },
     "execution_count": 7,
     "metadata": {},
     "output_type": "execute_result"
    }
   ],
   "source": [
    "df['Rnk'].isna().sum()"
   ]
  },
  {
   "cell_type": "code",
   "execution_count": 8,
   "metadata": {},
   "outputs": [],
   "source": [
    "df['Rnk'] = pd.to_numeric(df['Rnk'], errors='coerce')"
   ]
  },
  {
   "cell_type": "code",
   "execution_count": 9,
   "metadata": {},
   "outputs": [
    {
     "data": {
      "text/plain": [
       "np.int64(5219)"
      ]
     },
     "execution_count": 9,
     "metadata": {},
     "output_type": "execute_result"
    }
   ],
   "source": [
    "df['Rnk'].isna().sum()"
   ]
  },
  {
   "cell_type": "code",
   "execution_count": 10,
   "metadata": {},
   "outputs": [],
   "source": [
    "df_ml = df.select_dtypes(include='number')"
   ]
  },
  {
   "cell_type": "code",
   "execution_count": 11,
   "metadata": {},
   "outputs": [
    {
     "name": "stdout",
     "output_type": "stream",
     "text": [
      "<class 'pandas.core.frame.DataFrame'>\n",
      "Index: 80174 entries, 659ed585810c65fe22255a5e4a9b7838 to 0292146b9196ec7a98903cb50dae48cd\n",
      "Data columns (total 21 columns):\n",
      " #   Column           Non-Null Count  Dtype  \n",
      "---  ------           --------------  -----  \n",
      " 0   Rnk              74955 non-null  float64\n",
      " 1   GC               70115 non-null  float64\n",
      " 2   Age              80174 non-null  int64  \n",
      " 3   UCI              2647 non-null   float64\n",
      " 4   Pnt              10407 non-null  float64\n",
      " 5   Length           73679 non-null  float64\n",
      " 6   Month            80174 non-null  int32  \n",
      " 7   Year             80174 non-null  int32  \n",
      " 8   Time_seconds     61739 non-null  float64\n",
      " 9   Timelag_seconds  68962 non-null  float64\n",
      " 10  Stage_Type_bin   7690 non-null   float64\n",
      " 11  height           45914 non-null  float64\n",
      " 12  weight           45908 non-null  float64\n",
      " 13  PCS_Rnk          34332 non-null  float64\n",
      " 14  UCI_Rnk          33370 non-null  float64\n",
      " 15  AllTime_Rnk      26874 non-null  float64\n",
      " 16  Day_Pnt          45958 non-null  float64\n",
      " 17  GC_Pnt           45966 non-null  float64\n",
      " 18  TT_Pnt           45543 non-null  float64\n",
      " 19  Sprint_Pnt       45832 non-null  float64\n",
      " 20  Climb_Pnt        45809 non-null  float64\n",
      "dtypes: float64(18), int32(2), int64(1)\n",
      "memory usage: 12.8+ MB\n"
     ]
    }
   ],
   "source": [
    "df_ml.info()"
   ]
  },
  {
   "cell_type": "markdown",
   "metadata": {},
   "source": [
    "To remove outliers and improve our error rating, outlier will be detected and subsequently removed using *isolation forest*.\n",
    "\n",
    "For <code>contamination</code>, it will be assumed that 6% of our data contains outliers. "
   ]
  },
  {
   "cell_type": "code",
   "execution_count": 12,
   "metadata": {},
   "outputs": [],
   "source": [
    "q_low = df_ml.quantile(0.2)\n",
    "q_hi = df_ml.quantile(0.8)\n",
    "\n",
    "df_filtered = df_ml[(df_ml < q_hi) & (df_ml > q_low)]"
   ]
  },
  {
   "cell_type": "code",
   "execution_count": 13,
   "metadata": {},
   "outputs": [
    {
     "name": "stderr",
     "output_type": "stream",
     "text": [
      "/home/th0miz/Documents/School/DatSci_PI7-1/.venv/lib/python3.13/site-packages/sklearn/impute/_base.py:635: UserWarning: Skipping features without any observed values: ['Stage_Type_bin']. At least one non-missing value is needed for imputation with strategy='mean'.\n",
      "  warnings.warn(\n"
     ]
    }
   ],
   "source": [
    "imp = SimpleImputer(strategy='mean').set_output(transform='pandas')\n",
    "\n",
    "imp.fit(df_filtered)\n",
    "df_filtered = imp.transform(df_filtered)"
   ]
  },
  {
   "cell_type": "code",
   "execution_count": 14,
   "metadata": {},
   "outputs": [
    {
     "name": "stdout",
     "output_type": "stream",
     "text": [
      "<class 'pandas.core.frame.DataFrame'>\n",
      "Index: 80174 entries, 659ed585810c65fe22255a5e4a9b7838 to 0292146b9196ec7a98903cb50dae48cd\n",
      "Data columns (total 20 columns):\n",
      " #   Column           Non-Null Count  Dtype  \n",
      "---  ------           --------------  -----  \n",
      " 0   Rnk              80174 non-null  float64\n",
      " 1   GC               80174 non-null  float64\n",
      " 2   Age              80174 non-null  float64\n",
      " 3   UCI              80174 non-null  float64\n",
      " 4   Pnt              80174 non-null  float64\n",
      " 5   Length           80174 non-null  float64\n",
      " 6   Month            80174 non-null  float64\n",
      " 7   Year             80174 non-null  float64\n",
      " 8   Time_seconds     80174 non-null  float64\n",
      " 9   Timelag_seconds  80174 non-null  float64\n",
      " 10  height           80174 non-null  float64\n",
      " 11  weight           80174 non-null  float64\n",
      " 12  PCS_Rnk          80174 non-null  float64\n",
      " 13  UCI_Rnk          80174 non-null  float64\n",
      " 14  AllTime_Rnk      80174 non-null  float64\n",
      " 15  Day_Pnt          80174 non-null  float64\n",
      " 16  GC_Pnt           80174 non-null  float64\n",
      " 17  TT_Pnt           80174 non-null  float64\n",
      " 18  Sprint_Pnt       80174 non-null  float64\n",
      " 19  Climb_Pnt        80174 non-null  float64\n",
      "dtypes: float64(20)\n",
      "memory usage: 12.8+ MB\n"
     ]
    }
   ],
   "source": [
    "df_filtered.info()"
   ]
  },
  {
   "cell_type": "code",
   "execution_count": 15,
   "metadata": {},
   "outputs": [],
   "source": [
    "X = df_filtered.iloc[:, 1:]\n",
    "y = df_filtered.iloc[:, 0]"
   ]
  },
  {
   "cell_type": "code",
   "execution_count": 16,
   "metadata": {},
   "outputs": [],
   "source": [
    "X_train, X_test, y_train, y_test = train_test_split(X, y, random_state=42, train_size=0.8)"
   ]
  },
  {
   "cell_type": "markdown",
   "metadata": {},
   "source": [
    "#### 1.2.4 Random Forest Implementation\n",
    "\n",
    "Below is an implementation of a random forest regressor. Notice how a pipeline is being set up to make feature selection more manageable."
   ]
  },
  {
   "cell_type": "code",
   "execution_count": 17,
   "metadata": {},
   "outputs": [
    {
     "name": "stdout",
     "output_type": "stream",
     "text": [
      "Pipeline test score: 0.28729673106258613\n"
     ]
    }
   ],
   "source": [
    "forest = RandomForestRegressor(n_estimators=100)\n",
    "forest.fit(X_test, y_test)\n",
    "\n",
    "pipeline_forest = Pipeline([\n",
    "    ('feature_selection', SelectFromModel(estimator=forest)),\n",
    "    ('forest_regression', RandomForestRegressor(n_estimators=100, random_state=42))\n",
    "])\n",
    "\n",
    "pipeline_forest.fit(X_train, y_train)\n",
    "\n",
    "score = pipeline_forest.score(X_test, y_test)\n",
    "print(f\"Pipeline test score: {score}\")\n",
    "\n",
    "y_pred_dtr = pipeline_forest.predict(X_test)"
   ]
  },
  {
   "cell_type": "markdown",
   "metadata": {},
   "source": [
    "#### 1.3.1 Histogram-based Gradient Boosting Regression\n",
    "\n",
    "\n",
    "In the following section, *Histogram-based Gradient Boosting Regression* will be discussed. \n",
    "\n",
    "This machine learning model makes use of *gradient boosting* and the construction of histogram-based features.\n",
    "\n",
    "*Gradient boosting* is an ensemble method which makes use of regression trees. \n",
    "\n",
    "**What is ensemble learning?**\n",
    "- Ensemble learning is a model that will construct a number of models, with the aim to improve its prediction rate.\n",
    "Two popular ensemble methods include *bagging* (Bootstrap Aggregation) and *boosting*. With bagging, weak models are trained in parallel, where each model learns from a given partition of the dataset. The results from each of these models are then combined by either averaging (regression) or voting (classification). With boosting, a sequential method, each model is trained on a weighted training set, where each model corrects the weights based on the error from its predecessors.\n",
    "\n",
    "\n",
    "Gradient boosting is a boosting method, which works by building multiple, weaker, prediction models in sequence. Each time a model is constructed, it will (try to) predict the error that is left over by its model, and uses this information to build the next model. Gradient boosting makes use of combining predictions of multiple weak learners, usually decision trees.\n",
    "\n",
    "\n",
    "**How does Hist Gradient Boosting work?**\n",
    "This model is similar to gradient boosting, as it is an ensemble technique which uses boosting, but instead of using decision trees as weak learners, it makes use of histograms. Using histograms is computationally more efficient, making it faster compared to traditional gradient boosting, especially on larger datasets. Building a histogram has a notation of $O(nfeatures​×n)$, whereas gradient boosting is of $O(nfeatures​×nlog(n))$."
   ]
  },
  {
   "cell_type": "markdown",
   "metadata": {},
   "source": [
    "#### 1.3.2 Argumentation\n",
    "- Faster training times.\n",
    "- It can handle larger datasets.\n",
    "- Data does not need to be normalized.\n",
    "- Histogram-based can handle non-linear interaction."
   ]
  },
  {
   "cell_type": "markdown",
   "metadata": {},
   "source": [
    "#### 1.3.3 Implementation\n",
    "See below for the implementation of histogram-based gradient boosting."
   ]
  },
  {
   "cell_type": "code",
   "execution_count": 18,
   "metadata": {},
   "outputs": [
    {
     "data": {
      "text/plain": [
       "((16035, 19), (16035,))"
      ]
     },
     "execution_count": 18,
     "metadata": {},
     "output_type": "execute_result"
    }
   ],
   "source": [
    "X_test.shape, y_test.shape"
   ]
  },
  {
   "cell_type": "code",
   "execution_count": 19,
   "metadata": {},
   "outputs": [],
   "source": [
    "pipeline_hgb = Pipeline([\n",
    "    ('hgb', HistGradientBoostingRegressor(loss='poisson', max_bins=255))\n",
    "])\n",
    "\n",
    "pipeline_hgb.fit(X_train, y_train)\n",
    "\n",
    "y_pred_hgb = pipeline_hgb.predict(X_test)"
   ]
  },
  {
   "cell_type": "code",
   "execution_count": 20,
   "metadata": {},
   "outputs": [],
   "source": [
    "hgb = HistGradientBoostingRegressor(loss='poisson', max_bins=255).fit(X_train, y_train)\n",
    "y_pred_hgb = hgb.predict(X_test)"
   ]
  },
  {
   "cell_type": "markdown",
   "metadata": {},
   "source": [
    "For testing purposes, the $R^2$ score, which returns the coefficient of determination of the prediction, was included in the codeblock above. More on metrics will follow in **2.1 Metrics for Models**."
   ]
  },
  {
   "cell_type": "markdown",
   "metadata": {},
   "source": [
    "#### 1.4 Support Vector Regression (SVR)\n",
    "In the following section, SVR will be discussed and showcased.\n",
    "\n",
    "SVR is a type of learning model, found in the set of models from Support Vector Machines (SVM). SVM is a supervised model that can handle noth unstructured data as well as nonlinear relationships in high dimensional spaces. This is made possible due to a nifty feature of this type of model: the *kernel trick* or also called *kernel method*."
   ]
  },
  {
   "cell_type": "markdown",
   "metadata": {},
   "source": [
    "#### The Kernel Method\n",
    "The kernel method aims to solve two problems with on solution.\n",
    "**Problem 1**: \n",
    "relies on a nonlinear transformation of the points in a dataset. Say X and Y are plotted against on another. By "
   ]
  },
  {
   "cell_type": "code",
   "execution_count": 21,
   "metadata": {},
   "outputs": [],
   "source": [
    "pipeline_svr = Pipeline([\n",
    "    ('scaler', StandardScaler()),  # Normalize the data\n",
    "    ('svr', SVR(kernel='rbf', C=1.0, epsilon=0.2))  # SVR model\n",
    "])\n",
    "\n",
    "# Fit the pipeline on the training data\n",
    "pipeline_svr.fit(X_train, y_train)\n",
    "\n",
    "# Make predictions\n",
    "y_pred_svr = pipeline_svr.predict(X_test)"
   ]
  },
  {
   "cell_type": "markdown",
   "metadata": {},
   "source": [
    "#### 2.1 Metrics for Models\n",
    "\n",
    "In the following section, metrics for analyzing the performance of the used models will be explained and demonstrated.\n",
    "\n",
    "Since regression models are being used, the following general metrics will be used:\n",
    "- Mean absolute error (MAE) and mean absolute percentage error (MAPE).\n",
    "- Coefficient of determination ($R^2$).\n",
    "\n",
    "For random forest, feature importance will be used as a metric for evaluating the amount times a feature is used in each tree of the model."
   ]
  },
  {
   "cell_type": "markdown",
   "metadata": {},
   "source": [
    "#### 2.2 Mean Absolute (Percentage) Error\n",
    "\n",
    "\n",
    "With MAE, the magnitude of the average absolute error, or also called deviation, is determined.\n",
    "For MAPE, the same is achieved as with MAE, except it will return this as a precentage. Thus, this measure gives a percentage score of how predictions deviate from the actual values. \n",
    "\n",
    "Below, the MAE and MAPE for each of the models will be given, and will be interpreted."
   ]
  },
  {
   "cell_type": "code",
   "execution_count": 22,
   "metadata": {},
   "outputs": [
    {
     "name": "stdout",
     "output_type": "stream",
     "text": [
      "Decision Tree regression:\n",
      "\n",
      "Mean absolute error:  11.72926269614719 \n",
      "Mean absolute percentage error:  0.17332448603353287 \n",
      "\n",
      "Histogram-based gradient boosting:\n",
      "Mean absolute error:  12.679903035281708 \n",
      "Mean absolute percentage error:  0.18913736521226673 \n",
      "\n",
      "Support vector regression:\n",
      "Mean absolute error:  12.60602342048053 \n",
      "Mean absolute percentage error:  0.19033841213374497\n"
     ]
    }
   ],
   "source": [
    "mae_dtr = mean_absolute_error(y_test, y_pred_dtr)\n",
    "mape_dtr = mean_absolute_percentage_error(y_test, y_pred_dtr)\n",
    "\n",
    "mae_hgb = mean_absolute_error(y_test, y_pred_hgb)\n",
    "mape_hgb = mean_absolute_percentage_error(y_test, y_pred_hgb)\n",
    "\n",
    "mae_svr = mean_absolute_error(y_test, y_pred_svr)\n",
    "mape_svr = mean_absolute_percentage_error(y_test, y_pred_svr)\n",
    "\n",
    "print(\"Decision Tree regression:\\n\\nMean absolute error: \", mae_dtr, \"\\nMean absolute percentage error: \", mape_dtr,\n",
    "      \"\\n\\nHistogram-based gradient boosting:\\nMean absolute error: \", mae_hgb, \"\\nMean absolute percentage error: \", mape_hgb,\n",
    "      \"\\n\\nSupport vector regression:\\nMean absolute error: \", mae_svr, \"\\nMean absolute percentage error: \", mape_svr)"
   ]
  },
  {
   "cell_type": "markdown",
   "metadata": {},
   "source": [
    "Looking at our metrics"
   ]
  },
  {
   "cell_type": "markdown",
   "metadata": {},
   "source": [
    "#### 2.3 Coefficient Determination"
   ]
  },
  {
   "cell_type": "code",
   "execution_count": null,
   "metadata": {},
   "outputs": [
    {
     "name": "stdout",
     "output_type": "stream",
     "text": [
      " . . R2 scores . . \n",
      "\n",
      "R^2 for decision tree:  0.28729673106258613 \n",
      "R^2 for histogram-based gradient boost:  0.22531128453612748 \n",
      "R^2 for support vector regression:  0.11078191543273053\n"
     ]
    }
   ],
   "source": [
    "r2_dtr = r2_score(y_test, y_pred_dtr)\n",
    "r2_hgb = r2_score(y_test, y_pred_hgb)\n",
    "r2_svr = r2_score(y_test, y_pred_svr)\n",
    "\n",
    "print(\" . . R2 scores . . \\n\\nR^2 for random forest: \", r2_dtr,\n",
    "      \"\\nR^2 for histogram-based gradient boost: \", r2_hgb,\n",
    "      \"\\nR^2 for support vector regression: \", r2_svr)"
   ]
  },
  {
   "cell_type": "markdown",
   "metadata": {},
   "source": []
  },
  {
   "cell_type": "markdown",
   "metadata": {},
   "source": [
    "#### 2.4 Feature Importance\n",
    "\n"
   ]
  },
  {
   "cell_type": "code",
   "execution_count": 24,
   "metadata": {},
   "outputs": [],
   "source": [
    "importances = forest.feature_importances_"
   ]
  },
  {
   "cell_type": "code",
   "execution_count": 25,
   "metadata": {},
   "outputs": [
    {
     "data": {
      "image/png": "[encoded data removed]",
      "text/plain": [
       "<Figure size 640x480 with 1 Axes>"
      ]
     },
     "metadata": {},
     "output_type": "display_data"
    }
   ],
   "source": [
    "indices = np.argsort(importances)\n",
    "\n",
    "fig, ax = plt.subplots()\n",
    "ax.barh(range(len(importances)), importances[indices])\n",
    "ax.set_yticks(range(len(importances)))\n",
    "_ = ax.set_yticklabels(np.array(X_train.columns)[indices])"
   ]
  },
  {
   "cell_type": "markdown",
   "metadata": {},
   "source": [
    "#### 3.1.1 Cross-validation\n",
    "\n",
    "Cross validation (cv) is the act of splitting the dataset, that will be used for the training of a machine learning model.\n",
    "In this section, the results of research about the preparation of data for cross-validation will be discussed.\n",
    "\n",
    "Lets start off by evaluating the meaning of cross validation.\n",
    "\n",
    "When an entire dataset is both used for training and testing the model, it will be very accurate, since the model will use the memorized labels during training for testing its own performance. This is also called *overfitting*, where the model memorized the data instead of learning from it. Thus, it is good practice to hold out a part of the dataset for testing, since the model has never used this partition of the dataset for training purposes. Cv takes this a step further, by splitting the dataset into a training and a testing partition. With this, multiple instances of a model will be trained, where each model will have the test partition shifted around. By iterating over different splits during each sequentially trained model, a more accurate claim can be made for the performance of the trained model. See below for a visual representation.\n",
    "\n",
    "\n",
    "![alt text](image.png)\n",
    "\n",
    "\n",
    "[Scikit-learn](http://example.com)\n",
    "\n",
    "\n",
    "With this, the basics of *k-fold cross-validation* (k-cv), and thus cv itself, has been outlined, where the training set is split into *k* smaller sets, called \"k folds\".\n"
   ]
  },
  {
   "cell_type": "markdown",
   "metadata": {},
   "source": [
    "##### 3.1.2 Cross Validation for Hyperparameters\n",
    "\n",
    "However, the data used for training is not the only reason the prediction power of a model can be influenced. ML models are tuned based on *hyperparameters* to control their behaviour. For instance, the prediction power for a random forest model can rely on the maximum depth of the tree, the minimum number of samples require to allow a split and more. To dive deeper into researching what hyperparameters work best for a given model, cross validation can be used to have a certain model train over the dataset, while iterating through the definitions for hyperparameters. The results from cross validation can be interpreted to make a claim over which hyperparameters work best for a given model.\n",
    "\n",
    "So in short, it can be stated that the hyperparameter space can be iteratively searched for the best cross validation score. But how are hyperparameters evaluated? Two methods will be discussed below.\n",
    "\n",
    "1. **Exhaustive grid search**\n",
    "\n",
    "With a grid search, the hyperparameters are specified from a grid of parameter values. The values that will be evaluated are predefined in a grid, where in each following evaluation, the next hyperparameter value is evaluated. By doing this, all the possible combinations of predefined hyperparameters are evaluated, which will result in the best combination of parameters that are defined in the grid. This method is one of the more widely used methods for validating the most optimal hyperparameters for a machine learning model.\n",
    "\n",
    "2. **Randomized parameter optimization**\n",
    "\n",
    "Randomized parameter optimization takes a different approach to finding the ideal hyperparameters. This method implements a randomized search over the available hyperparameters, where each setting"
   ]
  },
  {
   "cell_type": "markdown",
   "metadata": {},
   "source": [
    "#### 3.1.3 Evaluating Hyperparameters\n",
    "For this section, the hyperparameters per model will be evaluated.\n",
    "\n",
    "##### Random Forest"
   ]
  },
  {
   "cell_type": "markdown",
   "metadata": {},
   "source": [
    "#### 3.2 Implementation of Cross-validation\n",
    "\n"
   ]
  },
  {
   "cell_type": "markdown",
   "metadata": {},
   "source": [
    "#### 4.1 Ideal Hyperparameters"
   ]
  },
  {
   "cell_type": "markdown",
   "metadata": {},
   "source": [
    "#### 5.1 Conclusions"
   ]
  },
  {
   "cell_type": "markdown",
   "metadata": {},
   "source": [
    "#### Bibliography:\n",
    "Chicco, D., Warrens, M. J., & Jurman, G. (2021). The Coefficient of Determination R-squared Is More Informative than SMAPE, MAE, MAPE, MSE and RMSE in Regression Analysis Evaluation. *PeerJ Computer Science, 7(5)*, e623. ncbi. https://doi.org/10.7717/peerj-cs.623\n",
    "\n",
    "\n",
    "*Cross-validation: Evaluating Estimator Performance*. (2009). Scikit-Learn.org. https://scikit-learn.org/stable/modules/cross_validation.html\n",
    "\n",
    "\n",
    "‌*Ensembles: Gradient boosting, random forests, bagging, voting, stacking*. (2022). Scikit-Learn. \n",
    "    https://scikit-learn.org/stable/modules/ensemble.html#gradientboostingclassifier-and-gradientboostingregressor\n",
    "\n",
    "\n",
    "*HistGradientBoostingRegressor*. (n.d.). Scikit-Learn. https://scikit-learn.org/stable/modules/generated/sklearn.ensemble.HistGradientBoostingRegressor.html\n",
    "\n",
    "\n",
    "*Support Vector Regression - Coastal Wiki.* (2024). Coastalwiki.org. https://www.coastalwiki.org/wiki/Support_Vector_Regression\n",
    "\n",
    "\n",
    "*The Kernel Trick in Support Vector Machine (SVM).* (2022, May 9).  YouTube. https://youtu.be/Q7vT0--5VII?si=UPm5UYwL1Dtsgkhw\n",
    "\n",
    "‌"
   ]
  }
 ],
 "metadata": {
  "kernelspec": {
   "display_name": ".venv",
   "language": "python",
   "name": "python3"
  },
  "language_info": {
   "codemirror_mode": {
    "name": "ipython",
    "version": 3
   },
   "file_extension": ".py",
   "mimetype": "text/x-python",
   "name": "python",
   "nbconvert_exporter": "python",
   "pygments_lexer": "ipython3",
   "version": "3.13.1"
  }
 },
 "nbformat": 4,
 "nbformat_minor": 2
}
