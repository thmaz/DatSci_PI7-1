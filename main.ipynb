{
 "cells": [
  {
   "cell_type": "markdown",
   "metadata": {},
   "source": [
    "# Data Science PI7, Part 1\n",
    "\n",
    "### 1. SQL Database Analysis\n",
    "\n",
    "To assess the available values in our database (\"cycling_big.db\"), we will have to explore our database.\n",
    "We will import the necessary modules and then make a query to our database by calling //the names of the tables and their column values//"
   ]
  },
  {
   "cell_type": "code",
   "execution_count": 53,
   "metadata": {},
   "outputs": [],
   "source": [
    "import sqlite3 as lite\n",
    "import pandas as pd\n",
    "import matplotlib.pyplot as plt"
   ]
  },
  {
   "cell_type": "code",
   "execution_count": 43,
   "metadata": {},
   "outputs": [
    {
     "name": "stdout",
     "output_type": "stream",
     "text": [
      "The following tables are present in our database\n",
      "('riders',)\n",
      "('race_results',)\n",
      "('sqlite_sequence',)\n"
     ]
    }
   ],
   "source": [
    "conn = lite.connect('cycling_big.db')\n",
    "cur = conn.cursor()\n",
    "\n",
    "cur.execute(\"SELECT name FROM sqlite_master WHERE type='table';\")\n",
    "tables = cur.fetchall()\n",
    "\n",
    "print(\"The following tables are present in our database\")\n",
    "for row in tables:\n",
    "    print(row)\n",
    "\n",
    "# We will be closing the database connection at the end of each code cell.\n",
    "# By doing this we can make sure that queries dont interact with unwanted code cells.\n",
    "conn.close()"
   ]
  },
  {
   "cell_type": "markdown",
   "metadata": {},
   "source": [
    "Note that the tables 'riders' and 'race_results' are present in the database. \n",
    "With this information, a query can be made to print out the first ten rows in in our tables."
   ]
  },
  {
   "cell_type": "code",
   "execution_count": 46,
   "metadata": {},
   "outputs": [
    {
     "name": "stdout",
     "output_type": "stream",
     "text": [
      "Columns for race_results: ['id', 'Rnk', 'GC', 'Timelag', 'BiB', 'Rider', 'Age', 'Team', 'UCI', 'Pnt', 'Time', 'Circuit', 'Race_Name', 'Stage_Name', 'Date', 'Stage_Type', 'Start', 'Finish', 'Race_ID', 'Stage_Number', 'Length', 'Category', 'Race_url', 'Stage_url', 'rider_id']\n",
      "Columns for riders: ['rider_id', 'fullname', 'team', 'birthdate', 'country', 'height', 'weight', 'rider_url', 'pps', 'rdr']\n"
     ]
    }
   ],
   "source": [
    "conn = lite.connect('cycling_big.db')\n",
    "cur = conn.cursor()\n",
    "\n",
    "conn = lite.connect('cycling_big.db')\n",
    "\n",
    "# Execute a query to select all entries and put the labels in an arrary of description values\n",
    "\n",
    "cur.execute('SELECT * FROM race_results')\n",
    "\n",
    "columns_race = [description[0] for description in cur.description]\n",
    "\n",
    "print(\"Columns for race_results:\", columns_race)\n",
    "\n",
    "cur.execute('SELECT * FROM riders')\n",
    "\n",
    "columns_rider = [description[0] for description in cur.description]\n",
    "\n",
    "print(\"Columns for riders:\", columns_rider)\n",
    "\n",
    "conn.close()"
   ]
  },
  {
   "cell_type": "markdown",
   "metadata": {},
   "source": [
    "Now let's quickly identify the amount of empty cells for race results. \n",
    "This will not give a full scope of missing or incorrect data, but this will offer us a quick overview of the columns that are missing entries.\n",
    "Ofcourse, entry values like 'Date' can be expected to be unstandardized, or a value can be entered as 'null', but will still count as a value, so using SQL queries will not be the most accurate to determine missing or unstandardized data."
   ]
  },
  {
   "cell_type": "code",
   "execution_count": 57,
   "metadata": {},
   "outputs": [
    {
     "name": "stdout",
     "output_type": "stream",
     "text": [
      "\n",
      "Missing Values Count for Each Column:\n",
      "--------------------------------------------------\n",
      "Column Name                    Missing Values\n",
      "--------------------------------------------------\n",
      "id                                           0\n",
      "Rnk                                          0\n",
      "GC                                       30420\n",
      "Timelag                                  30420\n",
      "BiB                                          0\n",
      "Rider                                        0\n",
      "Age                                          0\n",
      "Team                                        29\n",
      "UCI                                     214074\n",
      "Pnt                                     194158\n",
      "Time                                         0\n",
      "Circuit                                      0\n",
      "Race_Name                                    0\n",
      "Stage_Name                               25241\n",
      "Date                                         0\n",
      "Stage_Type                                   0\n",
      "Start                                        0\n",
      "Finish                                       0\n",
      "Race_ID                                      0\n",
      "Stage_Number                                 0\n",
      "Length                                       0\n",
      "Category                                     0\n",
      "Race_url                                     0\n",
      "Stage_url                                25241\n",
      "rider_id                                 52189\n",
      "--------------------------------------------------\n"
     ]
    }
   ],
   "source": [
    "conn = lite.connect('cycling_big.db')\n",
    "cur = conn.cursor()\n",
    "\n",
    "cur.execute(\"PRAGMA table_info(race_results);\") # Quick and dirty PRAGMA statement to return info on a column\n",
    "columns = cur.fetchall()\n",
    "\n",
    "# Building an SQL query to loop through all the columns to count nulls\n",
    "null_count = \"SELECT \"\n",
    "\n",
    "# Add each column's NULL count\n",
    "null_count += \", \".join([f\"SUM(CASE WHEN {column[1]} IS NULL THEN 1 ELSE 0 END) AS {column[1]}_null\" for column in columns])\n",
    "\n",
    "null_count += \" FROM race_results;\"\n",
    "\n",
    "# Execute the query\n",
    "cur.execute(null_count)\n",
    "\n",
    "# Fetch the result\n",
    "null_counts = cur.fetchone()\n",
    "\n",
    "print(\"\\nMissing Values Count for Each Column:\")\n",
    "print(\"-\" * 50)\n",
    "print(f\"{'Column Name':<30} {'Missing Values'}\")\n",
    "print(\"-\" * 50)\n",
    "\n",
    "# Looping through the columns and applying formatting\n",
    "for i, column in enumerate(columns):\n",
    "    column_name = column[1]  # Column name is the second element in the tuple\n",
    "    missing_values = null_counts[i]\n",
    "    print(f\"{column_name:<30} {missing_values:>15}\")\n",
    "\n",
    "print(\"-\" * 50)  # Footer to close the table\n",
    "\n",
    "conn.close()"
   ]
  },
  {
   "cell_type": "markdown",
   "metadata": {},
   "source": [
    "**2. Extract the SQL database in a Python environment. Describe the conversion\n",
    "process and how the database is deserialized in Python.**\n",
    "\n",
    "Below is a code sample for extracting data from a SQLite database. Using the built in 'sqlite' module for python, we can open a connection by calling the 'connect()' function that points to a \"*.db\" file. The returned connection object, named 'con', represents the connection to the on-disk database. This essentially creates an interface for python to interact with the SQLite database."
   ]
  },
  {
   "cell_type": "code",
   "execution_count": 50,
   "metadata": {},
   "outputs": [],
   "source": [
    "# As shown in the above cells, a connection to the \".db\" file can be established by \n",
    "conn = lite.connect('cycling_big.db')\n",
    "cur = conn.cursor()\n",
    "\n",
    "# When we are done connecting to our database, we call the following function to close our connection\n",
    "conn.close()"
   ]
  }
 ],
 "metadata": {
  "kernelspec": {
   "display_name": ".venv",
   "language": "python",
   "name": "python3"
  },
  "language_info": {
   "codemirror_mode": {
    "name": "ipython",
    "version": 3
   },
   "file_extension": ".py",
   "mimetype": "text/x-python",
   "name": "python",
   "nbconvert_exporter": "python",
   "pygments_lexer": "ipython3",
   "version": "3.11.2"
  }
 },
 "nbformat": 4,
 "nbformat_minor": 2
}
